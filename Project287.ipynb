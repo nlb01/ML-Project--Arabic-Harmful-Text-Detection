{
 "cells": [
  {
   "cell_type": "markdown",
   "metadata": {
    "id": "_g79ZWOB_BIi"
   },
   "source": [
    "# CMPS 287 Project "
   ]
  },
  {
   "cell_type": "markdown",
   "metadata": {
    "id": "lu2LdBYg_BIm"
   },
   "source": [
    "Building a model for detecting digital harmful text in a local context (Arabic). "
   ]
  },
  {
   "cell_type": "markdown",
   "metadata": {
    "id": "Qg3o3QsT_BIm"
   },
   "source": [
    "## Import Libraries"
   ]
  },
  {
   "cell_type": "code",
   "execution_count": 1,
   "metadata": {
    "colab": {
     "base_uri": "https://localhost:8080/"
    },
    "id": "BWzScdEx_BIn",
    "outputId": "0beb11c6-e097-4396-e0e4-73e13bccfd88"
   },
   "outputs": [
    {
     "name": "stderr",
     "output_type": "stream",
     "text": [
      "[nltk_data] Downloading package stopwords to\n",
      "[nltk_data]     C:\\Users\\yassi\\AppData\\Roaming\\nltk_data...\n",
      "[nltk_data]   Package stopwords is already up-to-date!\n",
      "[nltk_data] Downloading package punkt to\n",
      "[nltk_data]     C:\\Users\\yassi\\AppData\\Roaming\\nltk_data...\n",
      "[nltk_data]   Package punkt is already up-to-date!\n"
     ]
    }
   ],
   "source": [
    "import nltk\n",
    "import emoji\n",
    "nltk.download('stopwords')\n",
    "nltk.download('punkt')\n",
    "'''to install sklearn: pip install scikit-learn\n",
    "    to install nltk: pip install nltk'''\n",
    "import sklearn\n",
    "from tashaphyne.stemming import ArabicLightStemmer\n",
    "from nltk.stem.isri import ISRIStemmer\n",
    "import pyarabic.araby as araby\n",
    "from textblob import TextBlob\n",
    "import re\n",
    "import pandas as pd\n",
    "from sklearn.model_selection import train_test_split, learning_curve\n",
    "from sklearn.feature_extraction.text import CountVectorizer, TfidfVectorizer\n",
    "from sklearn import preprocessing\n",
    "from sklearn.linear_model import RidgeClassifier, Ridge\n",
    "from matplotlib import pyplot as plt\n",
    "import numpy as np\n",
    "from nltk.corpus import stopwords\n",
    "from nltk.tokenize import word_tokenize\n",
    "from nltk.stem import PorterStemmer\n",
    "from pickle import load, dump\n",
    "from sklearn.metrics import f1_score\n",
    "import itertools\n",
    "plt.style.use('seaborn')\n",
    "from __future__ import unicode_literals\n",
    "import unicodedata\n",
    "from unidecode import unidecode\n",
    "from aiogoogletrans import Translator\n",
    "from sklearn.naive_bayes import MultinomialNB\n",
    "from sklearn import metrics\n",
    "from sklearn.svm import SVC\n",
    "from sklearn.model_selection import GridSearchCV\n",
    "from sklearn.linear_model import LogisticRegression\n",
    "from sklearn.preprocessing import LabelEncoder\n",
    "import keras\n",
    "import random\n",
    "import tensorflow as tf\n",
    "from keras.utils import np_utils\n",
    "from tensorflow.keras import optimizers\n",
    "from keras.layers.core import Dense, Activation, Dropout , Flatten\n",
    "from sklearn.metrics import accuracy_score, f1_score\n",
    "from sklearn.model_selection import cross_val_score\n",
    "from sklearn.model_selection import RepeatedStratifiedKFold\n",
    "from matplotlib import pyplot\n",
    "from numpy import mean\n",
    "from numpy import std\n",
    "from keras.models import Sequential\n",
    "from keras.layers.embeddings import Embedding\n",
    "from keras.preprocessing.sequence import pad_sequences\n",
    "from sklearn.metrics import accuracy_score, f1_score\n",
    "from keras.preprocessing.text import Tokenizer\n",
    "from keras.preprocessing.sequence import pad_sequences"
   ]
  },
  {
   "cell_type": "markdown",
   "metadata": {
    "id": "TZ4kK2UY_BIo"
   },
   "source": [
    "## Load the Data"
   ]
  },
  {
   "cell_type": "code",
   "execution_count": 2,
   "metadata": {
    "colab": {
     "base_uri": "https://localhost:8080/",
     "height": 223
    },
    "collapsed": true,
    "id": "kusCHcSg_BIp",
    "outputId": "114f3974-c935-489d-cefa-1a8b544b0b58"
   },
   "outputs": [
    {
     "data": {
      "text/html": [
       "<div>\n",
       "<style scoped>\n",
       "    .dataframe tbody tr th:only-of-type {\n",
       "        vertical-align: middle;\n",
       "    }\n",
       "\n",
       "    .dataframe tbody tr th {\n",
       "        vertical-align: top;\n",
       "    }\n",
       "\n",
       "    .dataframe thead th {\n",
       "        text-align: right;\n",
       "    }\n",
       "</style>\n",
       "<table border=\"1\" class=\"dataframe\">\n",
       "  <thead>\n",
       "    <tr style=\"text-align: right;\">\n",
       "      <th></th>\n",
       "      <th>Unnamed: 0</th>\n",
       "      <th>Tweets</th>\n",
       "      <th>class</th>\n",
       "    </tr>\n",
       "  </thead>\n",
       "  <tbody>\n",
       "    <tr>\n",
       "      <th>0</th>\n",
       "      <td>0</td>\n",
       "      <td>صلاة الفجر خير لك من ترديد بول البعير وسبي الن...</td>\n",
       "      <td>1</td>\n",
       "    </tr>\n",
       "    <tr>\n",
       "      <th>1</th>\n",
       "      <td>1</td>\n",
       "      <td>صراحة نفسي اشوف ولاد الوسخة اللي قالوا مدرب اج...</td>\n",
       "      <td>3</td>\n",
       "    </tr>\n",
       "    <tr>\n",
       "      <th>2</th>\n",
       "      <td>2</td>\n",
       "      <td>طيب! هي متبرجة وعبايتها ملونه وطالعة من بيتهم ...</td>\n",
       "      <td>3</td>\n",
       "    </tr>\n",
       "    <tr>\n",
       "      <th>3</th>\n",
       "      <td>3</td>\n",
       "      <td>انا اوافقك بخصوص السوريين و العراقيين اما بخ...</td>\n",
       "      <td>0</td>\n",
       "    </tr>\n",
       "    <tr>\n",
       "      <th>4</th>\n",
       "      <td>4</td>\n",
       "      <td>هذه السعودية التي شعبها شعب الخيم و بول البعير...</td>\n",
       "      <td>0</td>\n",
       "    </tr>\n",
       "  </tbody>\n",
       "</table>\n",
       "</div>"
      ],
      "text/plain": [
       "   Unnamed: 0                                             Tweets  class\n",
       "0           0  صلاة الفجر خير لك من ترديد بول البعير وسبي الن...      1\n",
       "1           1  صراحة نفسي اشوف ولاد الوسخة اللي قالوا مدرب اج...      3\n",
       "2           2  طيب! هي متبرجة وعبايتها ملونه وطالعة من بيتهم ...      3\n",
       "3           3    انا اوافقك بخصوص السوريين و العراقيين اما بخ...      0\n",
       "4           4  هذه السعودية التي شعبها شعب الخيم و بول البعير...      0"
      ]
     },
     "execution_count": 2,
     "metadata": {},
     "output_type": "execute_result"
    }
   ],
   "source": [
    "path = 'final_data.csv'\n",
    "df = pd.read_csv(path, encoding='utf-8')\n",
    "\n",
    "df.head()"
   ]
  },
  {
   "cell_type": "markdown",
   "metadata": {
    "id": "vhm3fBJM_BIq"
   },
   "source": [
    "## Split the data into train (60%), validation (20%) and test (20%)"
   ]
  },
  {
   "cell_type": "code",
   "execution_count": 3,
   "metadata": {
    "colab": {
     "base_uri": "https://localhost:8080/"
    },
    "id": "1-5ZyPuXsLq3",
    "outputId": "f618c498-b47d-4a34-a8d0-e334678cfe4e"
   },
   "outputs": [],
   "source": [
    "x = df.iloc[:,1]\n",
    "y = df.iloc[:,2]"
   ]
  },
  {
   "cell_type": "code",
   "execution_count": 4,
   "metadata": {},
   "outputs": [
    {
     "name": "stdout",
     "output_type": "stream",
     "text": [
      "0        صلاة الفجر خير لك من ترديد بول البعير وسبي الن...\n",
      "1        صراحة نفسي اشوف ولاد الوسخة اللي قالوا مدرب اج...\n",
      "2        طيب! هي متبرجة وعبايتها ملونه وطالعة من بيتهم ...\n",
      "3          انا اوافقك بخصوص السوريين و العراقيين اما بخ...\n",
      "4        هذه السعودية التي شعبها شعب الخيم و بول البعير...\n",
      "                               ...                        \n",
      "11207    #الصحوة | الملحقية الثقافية بواشنطن تنشر تعميم...\n",
      "11208      لا الانفتاح التام المبهم نهج ولا الانغلاق يا...\n",
      "11209     يجيك مطوع يقولك اهم شي تسمع صوت الاذان بتركيا...\n",
      "11210              ممكن تعلميني اش الصحوه ومن ايش حرمتك؟!!\n",
      "11211    _98 مسكييييين يازينك ساكت بنات الرجال الكحيلات...\n",
      "Name: Tweets, Length: 11212, dtype: object\n",
      "---------------\n",
      "0        1\n",
      "1        3\n",
      "2        3\n",
      "3        0\n",
      "4        0\n",
      "        ..\n",
      "11207    1\n",
      "11208    1\n",
      "11209    3\n",
      "11210    1\n",
      "11211    3\n",
      "Name: class, Length: 11212, dtype: int64\n"
     ]
    }
   ],
   "source": [
    "print(x)\n",
    "print(\"---------------\")\n",
    "print(y)"
   ]
  },
  {
   "cell_type": "code",
   "execution_count": 5,
   "metadata": {},
   "outputs": [
    {
     "name": "stdout",
     "output_type": "stream",
     "text": [
      "(6727,)\n",
      "(2243,)\n",
      "(2242,)\n"
     ]
    }
   ],
   "source": [
    "x_train, x_temp, y_train, y_temp = train_test_split(x, y, test_size=0.4)\n",
    "x_test, x_val, y_test, y_val = train_test_split(x_temp, y_temp, test_size=0.5)\n",
    "\n",
    "print(y_train.shape)\n",
    "print(y_val.shape)\n",
    "print(y_test.shape)"
   ]
  },
  {
   "cell_type": "code",
   "execution_count": 6,
   "metadata": {},
   "outputs": [
    {
     "name": "stdout",
     "output_type": "stream",
     "text": [
      "(7848,)\n",
      "(7848,)\n",
      "(3364,)\n",
      "(3364,)\n"
     ]
    }
   ],
   "source": [
    "x_train_nn, x_test_nn, y_train_nn, y_test_nn = train_test_split(x, y, test_size=0.3)\n",
    "print(y_train_nn.shape)\n",
    "print(y_train_nn.shape)\n",
    "print(x_test_nn.shape)\n",
    "print(y_test_nn.shape)"
   ]
  },
  {
   "cell_type": "code",
   "execution_count": 7,
   "metadata": {},
   "outputs": [
    {
     "name": "stdout",
     "output_type": "stream",
     "text": [
      "6843     لقاء خلده      والغريب شيخ عقل وما بيعرف اذا ا...\n",
      "714      هذه نماذج من خنازير الخليج اعداء فلسطين والعرو...\n",
      "10036                                                 يهود\n",
      "3293     الغرب سبقونا في التبرج وحرية العري وعبادة الجن...\n",
      "20         انت اكبر المشردين بايع ارضك وعرضك وتتكلم على...\n",
      "                               ...                        \n",
      "2288                    هتفضل طول عمرك وسخ و دلدول يا خالد\n",
      "962      ذكروني لما اقعد اسولف عن الفرق بين انج تكونين ...\n",
      "388           حياتي اذا كتبت خنازير اكتب وراها كلاب مب ...\n",
      "545      لحس مص ممحمونة محنة عاهرة منحرفة مطلقة مولعه م...\n",
      "427                       والسلع #بايرة لولا اختلاف الشفوف\n",
      "Name: Tweets, Length: 6727, dtype: object\n"
     ]
    }
   ],
   "source": [
    "print(x_train)"
   ]
  },
  {
   "cell_type": "markdown",
   "metadata": {
    "id": "XV7y5HjYG9Jr"
   },
   "source": [
    "**Remove stopwords, perform stemming, and represent data with tf-idf**"
   ]
  },
  {
   "cell_type": "code",
   "execution_count": 8,
   "metadata": {},
   "outputs": [],
   "source": [
    "stops = set(stopwords.words(\"arabic\"))\n",
    "stop_word_comp = {\"،\",\"آض\",\"آمينَ\",\"آه\",\"آهاً\",\"آي\",\"أ\",\"أب\",\"أجل\",\"أجمع\",\"أخ\",\"أخذ\",\"أصبح\",\"أضحى\",\"أقبل\",\"أقل\",\"أكثر\",\"ألا\",\"أم\",\"أما\",\"أمامك\",\"أمامكَ\",\"أمسى\",\"أمّا\",\"أن\",\"أنا\",\"أنت\",\"أنتم\",\"أنتما\",\"أنتن\",\"أنتِ\",\"أنشأ\",\"أنّى\",\"أو\",\"أوشك\",\"أولئك\",\"أولئكم\",\"أولاء\",\"أولالك\",\"أوّهْ\",\"أي\",\"أيا\",\"أين\",\"أينما\",\"أيّ\",\"أَنَّ\",\"أََيُّ\",\"أُفٍّ\",\"إذ\",\"إذا\",\"إذاً\",\"إذما\",\"إذن\",\"إلى\",\"إليكم\",\"إليكما\",\"إليكنّ\",\"إليكَ\",\"إلَيْكَ\",\"إلّا\",\"إمّا\",\"إن\",\"إنّما\",\"إي\",\"إياك\",\"إياكم\",\"إياكما\",\"إياكن\",\"إيانا\",\"إياه\",\"إياها\",\"إياهم\",\"إياهما\",\"إياهن\",\"إياي\",\"إيهٍ\",\"إِنَّ\",\"ا\",\"ابتدأ\",\"اثر\",\"اجل\",\"احد\",\"اخرى\",\"اخلولق\",\"اذا\",\"اربعة\",\"ارتدّ\",\"استحال\",\"اطار\",\"اعادة\",\"اعلنت\",\"اف\",\"اكثر\",\"اكد\",\"الألاء\",\"الألى\",\"الا\",\"الاخيرة\",\"الان\",\"الاول\",\"الاولى\",\"التى\",\"التي\",\"الثاني\",\"الثانية\",\"الذاتي\",\"الذى\",\"الذي\",\"الذين\",\"السابق\",\"الف\",\"اللائي\",\"اللاتي\",\"اللتان\",\"اللتيا\",\"اللتين\",\"اللذان\",\"اللذين\",\"اللواتي\",\"الماضي\",\"المقبل\",\"الوقت\",\"الى\",\"اليوم\",\"اما\",\"امام\",\"امس\",\"ان\",\"انبرى\",\"انقلب\",\"انه\",\"انها\",\"او\",\"اول\",\"اي\",\"ايار\",\"ايام\",\"ايضا\",\"ب\",\"بات\",\"باسم\",\"بان\",\"بخٍ\",\"برس\",\"بسبب\",\"بسّ\",\"بشكل\",\"بضع\",\"بطآن\",\"بعد\",\"بعض\",\"بك\",\"بكم\",\"بكما\",\"بكن\",\"بل\",\"بلى\",\"بما\",\"بماذا\",\"بمن\",\"بن\",\"بنا\",\"به\",\"بها\",\"بي\",\"بيد\",\"بين\",\"بَسْ\",\"بَلْهَ\",\"بِئْسَ\",\"تانِ\",\"تانِك\",\"تبدّل\",\"تجاه\",\"تحوّل\",\"تلقاء\",\"تلك\",\"تلكم\",\"تلكما\",\"تم\",\"تينك\",\"تَيْنِ\",\"تِه\",\"تِي\",\"ثلاثة\",\"ثم\",\"ثمّ\",\"ثمّة\",\"ثُمَّ\",\"جعل\",\"جلل\",\"جميع\",\"جير\",\"حار\",\"حاشا\",\"حاليا\",\"حاي\",\"حتى\",\"حرى\",\"حسب\",\"حم\",\"حوالى\",\"حول\",\"حيث\",\"حيثما\",\"حين\",\"حيَّ\",\"حَبَّذَا\",\"حَتَّى\",\"حَذارِ\",\"خلا\",\"خلال\",\"دون\",\"دونك\",\"ذا\",\"ذات\",\"ذاك\",\"ذانك\",\"ذانِ\",\"ذلك\",\"ذلكم\",\"ذلكما\",\"ذلكن\",\"ذو\",\"ذوا\",\"ذواتا\",\"ذواتي\",\"ذيت\",\"ذينك\",\"ذَيْنِ\",\"ذِه\",\"ذِي\",\"راح\",\"رجع\",\"رويدك\",\"ريث\",\"رُبَّ\",\"زيارة\",\"سبحان\",\"سرعان\",\"سنة\",\"سنوات\",\"سوف\",\"سوى\",\"سَاءَ\",\"سَاءَمَا\",\"شبه\",\"شخصا\",\"شرع\",\"شَتَّانَ\",\"صار\",\"صباح\",\"صفر\",\"صهٍ\",\"صهْ\",\"ضد\",\"ضمن\",\"طاق\",\"طالما\",\"طفق\",\"طَق\",\"ظلّ\",\"عاد\",\"عام\",\"عاما\",\"عامة\",\"عدا\",\"عدة\",\"عدد\",\"عدم\",\"عسى\",\"عشر\",\"عشرة\",\"علق\",\"على\",\"عليك\",\"عليه\",\"عليها\",\"علًّ\",\"عن\",\"عند\",\"عندما\",\"عوض\",\"عين\",\"عَدَسْ\",\"عَمَّا\",\"غدا\",\"غير\",\"ـ\",\"ف\",\"فان\",\"فلان\",\"فو\",\"فى\",\"في\",\"فيم\",\"فيما\",\"فيه\",\"فيها\",\"قال\",\"قام\",\"قبل\",\"قد\",\"قطّ\",\"قلما\",\"قوة\",\"كأنّما\",\"كأين\",\"كأيّ\",\"كأيّن\",\"كاد\",\"كان\",\"كانت\",\"كذا\",\"كذلك\",\"كرب\",\"كل\",\"كلا\",\"كلاهما\",\"كلتا\",\"كلم\",\"كليكما\",\"كليهما\",\"كلّما\",\"كلَّا\",\"كم\",\"كما\",\"كي\",\"كيت\",\"كيف\",\"كيفما\",\"كَأَنَّ\",\"كِخ\",\"لئن\",\"لا\",\"لات\",\"لاسيما\",\"لدن\",\"لدى\",\"لعمر\",\"لقاء\",\"لك\",\"لكم\",\"لكما\",\"لكن\",\"لكنَّما\",\"لكي\",\"لكيلا\",\"للامم\",\"لم\",\"لما\",\"لمّا\",\"لن\",\"لنا\",\"له\",\"لها\",\"لو\",\"لوكالة\",\"لولا\",\"لوما\",\"لي\",\"لَسْتَ\",\"لَسْتُ\",\"لَسْتُم\",\"لَسْتُمَا\",\"لَسْتُنَّ\",\"لَسْتِ\",\"لَسْنَ\",\"لَعَلَّ\",\"لَكِنَّ\",\"لَيْتَ\",\"لَيْسَ\",\"لَيْسَا\",\"لَيْسَتَا\",\"لَيْسَتْ\",\"لَيْسُوا\",\"لَِسْنَا\",\"ما\",\"ماانفك\",\"مابرح\",\"مادام\",\"ماذا\",\"مازال\",\"مافتئ\",\"مايو\",\"متى\",\"مثل\",\"مذ\",\"مساء\",\"مع\",\"معاذ\",\"مقابل\",\"مكانكم\",\"مكانكما\",\"مكانكنّ\",\"مكانَك\",\"مليار\",\"مليون\",\"مما\",\"ممن\",\"من\",\"منذ\",\"منها\",\"مه\",\"مهما\",\"مَنْ\",\"مِن\",\"نحن\",\"نحو\",\"نعم\",\"نفس\",\"نفسه\",\"نهاية\",\"نَخْ\",\"نِعِمّا\",\"نِعْمَ\",\"ها\",\"هاؤم\",\"هاكَ\",\"هاهنا\",\"هبّ\",\"هذا\",\"هذه\",\"هكذا\",\"هل\",\"هلمَّ\",\"هلّا\",\"هم\",\"هما\",\"هن\",\"هنا\",\"هناك\",\"هنالك\",\"هو\",\"هي\",\"هيا\",\"هيت\",\"هيّا\",\"هَؤلاء\",\"هَاتانِ\",\"هَاتَيْنِ\",\"هَاتِه\",\"هَاتِي\",\"هَجْ\",\"هَذا\",\"هَذانِ\",\"هَذَيْنِ\",\"هَذِه\",\"هَذِي\",\"هَيْهَاتَ\",\"و\",\"و6\",\"وا\",\"واحد\",\"واضاف\",\"واضافت\",\"واكد\",\"وان\",\"واهاً\",\"واوضح\",\"وراءَك\",\"وفي\",\"وقال\",\"وقالت\",\"وقد\",\"وقف\",\"وكان\",\"وكانت\",\"ولا\",\"ولم\",\"ومن\",\"مَن\",\"وهو\",\"وهي\",\"ويكأنّ\",\"وَيْ\",\"وُشْكَانََ\",\"يكون\",\"يمكن\",\"يوم\",\"ّأيّان\"}\n",
    "ArListem = ArabicLightStemmer()"
   ]
  },
  {
   "cell_type": "code",
   "execution_count": 9,
   "metadata": {},
   "outputs": [],
   "source": [
    "def stem(text):\n",
    "    zen = TextBlob(text)\n",
    "    words = zen.words\n",
    "    cleaned = list()\n",
    "    for w in words:\n",
    "        ArListem.light_stem(w)\n",
    "        cleaned.append(ArListem.get_root())\n",
    "    return \" \".join(cleaned)"
   ]
  },
  {
   "cell_type": "code",
   "execution_count": 10,
   "metadata": {},
   "outputs": [],
   "source": [
    "def normalizeArabic(text):\n",
    "    text = text.strip()\n",
    "    text = re.sub(\"[إأٱآا]\", \"ا\", text)\n",
    "    text = re.sub(\"ى\", \"ي\", text)\n",
    "    text = re.sub(\"ؤ\", \"ء\", text)\n",
    "    text = re.sub(\"ئ\", \"ء\", text)\n",
    "    text = re.sub(\"ة\", \"ه\", text)\n",
    "    noise = re.compile(\"\"\" ّ    | # Tashdid\n",
    "                             َ    | # Fatha\n",
    "                             ً    | # Tanwin Fath\n",
    "                             ُ    | # Damma\n",
    "                             ٌ    | # Tanwin Damm\n",
    "                             ِ    | # Kasra\n",
    "                             ٍ    | # Tanwin Kasr\n",
    "                             ْ    | # Sukun\n",
    "                             ـ     # Tatwil/Kashida\n",
    "                         \"\"\", re.VERBOSE)\n",
    "    text = re.sub(noise, '', text)\n",
    "    text = re.sub(r'(.)\\1+', r\"\\1\\1\", text)\n",
    "    return araby.strip_tashkeel(text)"
   ]
  },
  {
   "cell_type": "code",
   "execution_count": 11,
   "metadata": {},
   "outputs": [],
   "source": [
    "def remove_stop_words(text):\n",
    "    zen = TextBlob(text)\n",
    "    words = zen.words\n",
    "    return \" \".join([w for w in words if not w in stops and not w in stop_word_comp and len(w) >= 2])"
   ]
  },
  {
   "cell_type": "code",
   "execution_count": 12,
   "metadata": {},
   "outputs": [],
   "source": [
    "def split_hashtag_to_words(tag):\n",
    "    tag = tag.replace('#','')\n",
    "    tags = tag.split('_')\n",
    "    if len(tags) > 1 :\n",
    "        \n",
    "        return tags\n",
    "    pattern = re.compile(r\"[A-Z][a-z]+|\\d+|[A-Z]+(?![a-z])\")\n",
    "    return pattern.findall(tag)"
   ]
  },
  {
   "cell_type": "code",
   "execution_count": 13,
   "metadata": {},
   "outputs": [],
   "source": [
    "def clean_hashtag(text):\n",
    "    words = text.split()\n",
    "    text = list()\n",
    "    for word in words:\n",
    "        if is_hashtag(word):\n",
    "            text.extend(extract_hashtag(word))\n",
    "        else:\n",
    "            text.append(word)\n",
    "    return \" \".join(text)"
   ]
  },
  {
   "cell_type": "code",
   "execution_count": 14,
   "metadata": {},
   "outputs": [],
   "source": [
    "def is_hashtag(word):\n",
    "    if word.startswith(\"#\"):\n",
    "        return True\n",
    "    else:\n",
    "        return False"
   ]
  },
  {
   "cell_type": "code",
   "execution_count": 15,
   "metadata": {},
   "outputs": [],
   "source": [
    "def extract_hashtag(text):\n",
    "    \n",
    "    hash_list = ([re.sub(r\"(\\W+)$\", \"\", i) for i in text.split() if i.startswith(\"#\")])\n",
    "    word_list = []\n",
    "    for word in hash_list :\n",
    "        word_list.extend(split_hashtag_to_words(word))\n",
    "    return word_list"
   ]
  },
  {
   "cell_type": "code",
   "execution_count": 16,
   "metadata": {},
   "outputs": [],
   "source": [
    "with open('emojis.csv','r',encoding='utf-8') as f:\n",
    "    lines = f.readlines()\n",
    "    emojis_ar = {}\n",
    "    for line in lines:\n",
    "        line = line.strip('\\n').split(';')\n",
    "        emojis_ar.update({line[0].strip():line[1].strip()})"
   ]
  },
  {
   "cell_type": "code",
   "execution_count": 17,
   "metadata": {},
   "outputs": [],
   "source": [
    "def remove_emoji(text):\n",
    "    emoji_pattern = re.compile(\"[\"\n",
    "                                   u\"\\U0001F600-\\U0001F64F\"  # emoticons\n",
    "                                   u\"\\U0001F300-\\U0001F5FF\"  # symbols & pictographs\n",
    "                                   u\"\\U0001F680-\\U0001F6FF\"  # transport & map symbols\n",
    "                                   u\"\\U0001F1E0-\\U0001F1FF\"  # flags (iOS)\n",
    "                                   u\"\\U00002702-\\U000027B0\"\n",
    "                                   u\"\\U000024C2-\\U0001F251\"\n",
    "                                   \"]+\", flags=re.UNICODE)\n",
    "    text = emoji_pattern.sub(r'', text)\n",
    "    return text"
   ]
  },
  {
   "cell_type": "code",
   "execution_count": 18,
   "metadata": {},
   "outputs": [],
   "source": [
    "def emoji_native_translation(text):\n",
    "    text = text.lower()\n",
    "    loves = [\"<3\", \"♥\",'❤']\n",
    "    smilefaces = []\n",
    "    sadfaces = []\n",
    "    neutralfaces = []\n",
    "\n",
    "    eyes = [\"8\",\":\",\"=\",\";\"]\n",
    "    nose = [\"'\",\"`\",\"-\",r\"\\\\\"]\n",
    "    for e in eyes:\n",
    "        for n in nose:\n",
    "            for s in [\"\\)\", \"d\", \"]\", \"}\",\"p\"]:\n",
    "                smilefaces.append(e+n+s)\n",
    "                smilefaces.append(e+s)\n",
    "            for s in [\"\\(\", \"\\[\", \"{\"]:\n",
    "                sadfaces.append(e+n+s)\n",
    "                sadfaces.append(e+s)\n",
    "            for s in [\"\\|\", \"\\/\", r\"\\\\\"]:\n",
    "                neutralfaces.append(e+n+s)\n",
    "                neutralfaces.append(e+s)\n",
    "            #reversed\n",
    "            for s in [\"\\(\", \"\\[\", \"{\"]:\n",
    "                smilefaces.append(s+n+e)\n",
    "                smilefaces.append(s+e)\n",
    "            for s in [\"\\)\", \"\\]\", \"}\"]:\n",
    "                sadfaces.append(s+n+e)\n",
    "                sadfaces.append(s+e)\n",
    "            for s in [\"\\|\", \"\\/\", r\"\\\\\"]:\n",
    "                neutralfaces.append(s+n+e)\n",
    "                neutralfaces.append(s+e)\n",
    "\n",
    "    smilefaces = list(set(smilefaces))\n",
    "    sadfaces = list(set(sadfaces))\n",
    "    neutralfaces = list(set(neutralfaces))\n",
    "    t = []\n",
    "    for w in text.split():\n",
    "        if w in loves:\n",
    "            t.append(\"حب\")\n",
    "        elif w in smilefaces:\n",
    "            t.append(\"مضحك\")\n",
    "        elif w in neutralfaces:\n",
    "            t.append(\"عادي\")\n",
    "        elif w in sadfaces:\n",
    "            t.append(\"محزن\")\n",
    "        else:\n",
    "            t.append(w)\n",
    "    newText = \" \".join(t)\n",
    "    return newText"
   ]
  },
  {
   "cell_type": "code",
   "execution_count": 19,
   "metadata": {},
   "outputs": [],
   "source": [
    "def is_emoji(word):\n",
    "    if word in emojis_ar:\n",
    "        return True\n",
    "    else:\n",
    "        return False"
   ]
  },
  {
   "cell_type": "code",
   "execution_count": 20,
   "metadata": {},
   "outputs": [],
   "source": [
    "def add_space(text):\n",
    "    return ''.join(' ' + char if is_emoji(char) else char for char in text).strip()"
   ]
  },
  {
   "cell_type": "code",
   "execution_count": 21,
   "metadata": {},
   "outputs": [],
   "source": [
    "translator = Translator()\n",
    "import asyncio\n",
    "loop = asyncio.get_event_loop()"
   ]
  },
  {
   "cell_type": "code",
   "execution_count": 22,
   "metadata": {},
   "outputs": [],
   "source": [
    "def translate_emojis(words):\n",
    "    word_list = list()\n",
    "    words_to_translate = list()\n",
    "    for word in words :\n",
    "        t = emojis_ar.get(word.get('emoji'),None)\n",
    "        if t is None:\n",
    "            word.update({'translation':'عادي','translated':True})\n",
    "        else:\n",
    "            word.update({'translated':False,'translation':t})\n",
    "            words_to_translate.append(t.replace(':','').replace('_',' '))\n",
    "        word_list.append(word)\n",
    "    return word_list"
   ]
  },
  {
   "cell_type": "code",
   "execution_count": 23,
   "metadata": {},
   "outputs": [],
   "source": [
    "def emoji_unicode_translation(text):\n",
    "    text = add_space(text)\n",
    "    words = text.split()\n",
    "    text_list = list()\n",
    "    emojis_list = list()\n",
    "    c = 0\n",
    "    for word in words:\n",
    "        if is_emoji(word):\n",
    "            emojis_list.append({'emoji':word,'emplacement':c})\n",
    "        else:\n",
    "            text_list.append(word)\n",
    "        c+=1\n",
    "    emojis_translated = translate_emojis(emojis_list)\n",
    "    for em in emojis_translated:\n",
    "        text_list.insert(em.get('emplacement'),em.get('translation'))\n",
    "    text = \" \".join(text_list)\n",
    "    return text"
   ]
  },
  {
   "cell_type": "code",
   "execution_count": 24,
   "metadata": {},
   "outputs": [],
   "source": [
    "def clean_emoji(text):\n",
    "    text = emoji_native_translation(text)\n",
    "    text = emoji_unicode_translation(text)\n",
    "    return text"
   ]
  },
  {
   "cell_type": "code",
   "execution_count": 25,
   "metadata": {},
   "outputs": [],
   "source": [
    "def clean_tweet(text):\n",
    "    text = re.sub('#\\d+K\\d+', ' ', text)  # years like 2K19\n",
    "    text = re.sub('http\\S+\\s*', ' ', text)  # remove URLs\n",
    "    text = re.sub('RT|cc', ' ', text)  # remove RT and cc\n",
    "    text = re.sub('@[^\\s]+',' ',text)\n",
    "    text = clean_hashtag(text)\n",
    "    text = clean_emoji(text)\n",
    "    return text"
   ]
  },
  {
   "cell_type": "code",
   "execution_count": 26,
   "metadata": {},
   "outputs": [],
   "source": [
    "def clean_text(text):\n",
    "    ## Clean for tweets\n",
    "    text = clean_tweet(text)\n",
    "    ## Remove punctuations\n",
    "    text = re.sub('[%s]' % re.escape(\"\"\"!\"#$%&'()*+,،-./:;<=>؟?@[\\]^_`{|}~\"\"\"), ' ', text)  # remove punctuation\n",
    "    ## remove extra whitespace\n",
    "    text = re.sub('\\s+', ' ', text)  \n",
    "    ## Remove Emojis\n",
    "    text = remove_emoji(text)\n",
    "    ## Convert text to lowercases\n",
    "    text = text.lower()\n",
    "    ## Remove stop words\n",
    "    text = remove_stop_words(text)\n",
    "    ## Remove numbers\n",
    "    text = re.sub(\"\\d+\", \" \", text)\n",
    "    ## Remove Tashkeel\n",
    "    text = normalizeArabic(text)\n",
    "    #text = re.sub('\\W+', ' ', text)\n",
    "    text = re.sub('[A-Za-z]+',' ',text)\n",
    "    text = re.sub(r'\\\\u[A-Za-z0-9\\\\]+',' ',text)\n",
    "    ## remove extra whitespace\n",
    "    text = re.sub('\\s+', ' ', text)  \n",
    "    #Stemming\n",
    "    #text = stem(text)\n",
    "    return text"
   ]
  },
  {
   "cell_type": "code",
   "execution_count": 27,
   "metadata": {},
   "outputs": [],
   "source": [
    "x_train = x_train.apply(lambda x:clean_text(x))\n",
    "x_test = x_test.apply(lambda x:clean_text(x))\n",
    "x_val = x_val.apply(lambda x:clean_text(x))"
   ]
  },
  {
   "cell_type": "code",
   "execution_count": 28,
   "metadata": {},
   "outputs": [],
   "source": [
    "x_train_nn = x_train_nn.apply(lambda x:clean_text(x))\n",
    "x_test_nn = x_train_nn.apply(lambda x:clean_text(x))"
   ]
  },
  {
   "cell_type": "code",
   "execution_count": 30,
   "metadata": {},
   "outputs": [
    {
     "name": "stdout",
     "output_type": "stream",
     "text": [
      "3141    بهيم ارجع اقرا بيان الاهلي انت تعرف الاهلي ال ...\n",
      "9927    شفت الكلب يحط عالنعمه كتشب قلب مجروح قلب مجروح...\n",
      "8734    دعهم يتلهون بفتات الاخرينلنا زعيم قاءد وشيخ عق...\n",
      "8228       يرسل وفود ابن الجاهليه مين سامع باسمه بفنزويلا\n",
      "477                الله الواحد الي تعطونه وجهه يقلب خنزير\n",
      "                              ...                        \n",
      "7410                         والله ربنا ليلعن تعاريص عرضه\n",
      "7798    اين فصعون السياسه جبران باسيل زمن التبعيه والت...\n",
      "5772                       شكلي دعست دنبو بالغلط تاج راسي\n",
      "8676    السيد انو جبران باسيل صديقو انا انبسطت لان تذك...\n",
      "1273    الانسان علماء العصر ام هيءه خنزير قرد نظريه دا...\n",
      "Name: Tweets, Length: 6727, dtype: object\n"
     ]
    }
   ],
   "source": [
    "print(x_train)"
   ]
  },
  {
   "cell_type": "code",
   "execution_count": 29,
   "metadata": {},
   "outputs": [],
   "source": [
    "#perfrom tf-idf and represent the result in a dictionary\n",
    "vectorizer = TfidfVectorizer()\n",
    "tfidf_X_train = vectorizer.fit_transform(x_train)\n",
    "tfidf_X_test = vectorizer.transform(x_test)\n",
    "tfidf_X_val = vectorizer.transform(x_val)"
   ]
  },
  {
   "cell_type": "code",
   "execution_count": 30,
   "metadata": {},
   "outputs": [],
   "source": [
    "tokenizer = Tokenizer()\n",
    "tokenizer.fit_on_texts(x_train)\n",
    "sequences = tokenizer.texts_to_sequences(x_train)\n",
    "sequences_val = tokenizer.texts_to_sequences(x_val)"
   ]
  },
  {
   "cell_type": "code",
   "execution_count": 34,
   "metadata": {},
   "outputs": [
    {
     "name": "stdout",
     "output_type": "stream",
     "text": [
      "[[   0    0    0 ...  366   40 8042]\n",
      " [   0    0    0 ...  810   53 8045]\n",
      " [   0    0    0 ... 4413 8051  921]\n",
      " ...\n",
      " [   0    0    0 ... 5370  299 2940]\n",
      " [   0    0    0 ...  239 8039  720]\n",
      " [   0    0    0 ... 7922 1378  135]]\n"
     ]
    }
   ],
   "source": [
    "padded_sequences = pad_sequences(sequences, maxlen=25673)\n",
    "print(padded_sequences)"
   ]
  },
  {
   "cell_type": "code",
   "execution_count": 35,
   "metadata": {},
   "outputs": [
    {
     "name": "stdout",
     "output_type": "stream",
     "text": [
      "[[    0     0     0 ... 10438   205  5981]\n",
      " [    0     0     0 ...  4506  1157  1862]\n",
      " [    0     0     0 ... 19725  4354  1133]\n",
      " ...\n",
      " [    0     0     0 ...   748  3635  3474]\n",
      " [    0     0     0 ...   590 23421    20]\n",
      " [    0     0     0 ...     5     6   469]]\n"
     ]
    }
   ],
   "source": [
    "sequences_test = tokenizer.texts_to_sequences(x_test)\n",
    "padded_sequences_test = pad_sequences(sequences_test, maxlen=25673)\n",
    "print(padded_sequences_test)"
   ]
  },
  {
   "cell_type": "code",
   "execution_count": 36,
   "metadata": {},
   "outputs": [],
   "source": [
    "padded_sequences_val = pad_sequences(sequences_val, maxlen=25673)"
   ]
  },
  {
   "cell_type": "code",
   "execution_count": 37,
   "metadata": {},
   "outputs": [],
   "source": [
    "tokenizer2 = Tokenizer()\n",
    "tokenizer2.fit_on_texts(x_train_nn)\n",
    "sequences_train_nn = tokenizer2.texts_to_sequences(x_train_nn)\n",
    "sequences_test_nn = tokenizer2.texts_to_sequences(x_test_nn)"
   ]
  },
  {
   "cell_type": "code",
   "execution_count": 39,
   "metadata": {},
   "outputs": [],
   "source": [
    "padded_sequences_train_nn = pad_sequences(sequences_train_nn , maxlen=28300)\n",
    "padded_sequences_test_nn = pad_sequences(sequences_test_nn , maxlen=28300)"
   ]
  },
  {
   "cell_type": "code",
   "execution_count": 31,
   "metadata": {},
   "outputs": [
    {
     "name": "stdout",
     "output_type": "stream",
     "text": [
      "X_train: (6727, 25018)  y_train: (6727,)\n",
      "X_val: (2243, 25018)  y_val: (2243,)\n",
      "X_test: (2242, 25018)  y_test: (2242,)\n"
     ]
    }
   ],
   "source": [
    "print(\"X_train: {}  y_train: {}\".format(tfidf_X_train.shape, y_train.shape))\n",
    "print(\"X_val: {}  y_val: {}\".format(tfidf_X_val.shape, y_val.shape))\n",
    "print(\"X_test: {}  y_test: {}\".format(tfidf_X_test.shape, y_test.shape))"
   ]
  },
  {
   "cell_type": "markdown",
   "metadata": {
    "id": "p_ohq4PHx_qi"
   },
   "source": [
    "**Implement Naive Bayes model**"
   ]
  },
  {
   "cell_type": "code",
   "execution_count": null,
   "metadata": {},
   "outputs": [],
   "source": [
    "#print(type(x_train))\n",
    "\n",
    "#print([word for tweet in x_train for word in tweet])\n",
    "\n",
    "'''naive_bayes_classifier = MultinomialNB()\n",
    "naive_bayes_classifier.fit(X_train_tf, y_train)\n",
    "\n",
    "y_pred = naive_bayes_classifier.predict(X_test_tf)\n",
    "score1 = metrics.accuracy_score(y_test, y_pred)\n",
    "\n",
    "print(\"accuracy:   %0.3f\" % score1)'''\n",
    "\n",
    "'''\n",
    "vector = vectorizer.fit_transform([word for tweet in x_train for word in tweet])\n",
    "vector = vector.toarray()\n",
    "#print(vectorizer.vocabulary_)\n",
    "#print(vectorizer.idf_)\n",
    "\n",
    "#implement Naive Bayes model\n",
    "naive_bayes_classifier = MultinomialNB()\n",
    "naive_bayes_classifier.fit(vector, y_train) '''"
   ]
  },
  {
   "cell_type": "markdown",
   "metadata": {},
   "source": [
    "**SVM Models**"
   ]
  },
  {
   "cell_type": "code",
   "execution_count": 35,
   "metadata": {},
   "outputs": [],
   "source": [
    "models = []\n",
    "scores = []"
   ]
  },
  {
   "cell_type": "code",
   "execution_count": 37,
   "metadata": {},
   "outputs": [
    {
     "name": "stderr",
     "output_type": "stream",
     "text": [
      "c:\\Users\\yassi\\anaconda3\\lib\\site-packages\\sklearn\\model_selection\\_split.py:666: UserWarning: The least populated class in y has only 8 members, which is less than n_splits=10.\n",
      "  warnings.warn((\"The least populated class in y has only %d\"\n"
     ]
    },
    {
     "name": "stdout",
     "output_type": "stream",
     "text": [
      "Best score:\n",
      "0.4486386029151631\n"
     ]
    }
   ],
   "source": [
    "parameters = {'C': [1, 10, 100, 200, 300]}\n",
    "poly_SVM = SVC(kernel = 'poly')\n",
    "poly_CLF = GridSearchCV(poly_SVM, parameters, scoring = ['f1_micro', 'accuracy'], cv = 10, refit='f1_micro')\n",
    "poly_CLF.fit(tfidf_X_train, y_train)\n",
    "\n",
    "best_estimator = poly_CLF.best_estimator_\n",
    "best_score =  poly_CLF.best_score_\n",
    "\n",
    "models.append(best_estimator)\n",
    "scores.append(best_score)\n",
    "\n",
    "print(\"Best score:\\n{}\".format(best_score))"
   ]
  },
  {
   "cell_type": "code",
   "execution_count": 38,
   "metadata": {},
   "outputs": [
    {
     "name": "stdout",
     "output_type": "stream",
     "text": [
      "Best score:\n",
      "0.4453696205747996\n"
     ]
    }
   ],
   "source": [
    "parameters = {'C': [1, 10, 100, 200, 300]}\n",
    "poly_SVM = SVC(kernel = 'poly')\n",
    "poly_CLF = GridSearchCV(poly_SVM, parameters, scoring = ['f1_micro', 'accuracy'], cv = 5, refit='f1_micro')\n",
    "poly_CLF.fit(tfidf_X_train, y_train)\n",
    "\n",
    "best_estimator = poly_CLF.best_estimator_\n",
    "best_score =  poly_CLF.best_score_\n",
    "\n",
    "models.append(best_estimator)\n",
    "scores.append(best_score)\n",
    "\n",
    "print(\"Best score:\\n{}\".format(best_score))"
   ]
  },
  {
   "cell_type": "code",
   "execution_count": 39,
   "metadata": {},
   "outputs": [
    {
     "name": "stdout",
     "output_type": "stream",
     "text": [
      "Best score:\n",
      "0.5925358904533328\n"
     ]
    }
   ],
   "source": [
    "parameters = {'C': [1, 10, 100, 200, 300]}\n",
    "linear_SVM = SVC(kernel = 'rbf')\n",
    "linear_CLF = GridSearchCV(linear_SVM, parameters, scoring = ['f1_micro', 'accuracy'], cv = 5, refit='f1_micro')\n",
    "linear_CLF.fit(tfidf_X_train, y_train)\n",
    "\n",
    "best_estimator = linear_CLF.best_estimator_\n",
    "best_score =  linear_CLF.best_score_\n",
    "\n",
    "models.append(best_estimator)\n",
    "scores.append(best_score)\n",
    "\n",
    "print(\"Best score:\\n{}\".format(best_score))"
   ]
  },
  {
   "cell_type": "code",
   "execution_count": 36,
   "metadata": {},
   "outputs": [
    {
     "name": "stderr",
     "output_type": "stream",
     "text": [
      "c:\\Users\\yassi\\anaconda3\\lib\\site-packages\\sklearn\\model_selection\\_split.py:666: UserWarning: The least populated class in y has only 8 members, which is less than n_splits=10.\n",
      "  warnings.warn((\"The least populated class in y has only %d\"\n"
     ]
    },
    {
     "name": "stdout",
     "output_type": "stream",
     "text": [
      "Best score:\n",
      "0.5961035342814689\n"
     ]
    }
   ],
   "source": [
    "parameters = {'C': [1, 10, 100, 200, 300]}\n",
    "linear_SVM = SVC(kernel = 'rbf')\n",
    "linear_CLF = GridSearchCV(linear_SVM, parameters, scoring = ['f1_micro', 'accuracy'], cv = 10, refit='f1_micro')\n",
    "linear_CLF.fit(tfidf_X_train, y_train)\n",
    "\n",
    "best_estimator = linear_CLF.best_estimator_\n",
    "best_score =  linear_CLF.best_score_\n",
    "\n",
    "models.append(best_estimator)\n",
    "scores.append(best_score)\n",
    "\n",
    "print(\"Best score:\\n{}\".format(best_score))"
   ]
  },
  {
   "cell_type": "code",
   "execution_count": 36,
   "metadata": {},
   "outputs": [
    {
     "name": "stdout",
     "output_type": "stream",
     "text": [
      "Best score:\n",
      "0.45339851765371825\n"
     ]
    }
   ],
   "source": [
    "parameters = {'C': [1, 10, 100, 200, 300]}\n",
    "linear_SVM = SVC(kernel = 'rbf')\n",
    "linear_CLF = GridSearchCV(poly_SVM, parameters, scoring = ['f1_micro', 'accuracy'], cv = 10, refit='f1_micro')\n",
    "linear_CLF.fit(tfidf_X_train, y_train)\n",
    "\n",
    "best_estimator = linear_CLF.best_estimator_\n",
    "best_score =  linear_CLF.best_score_\n",
    "\n",
    "models.append(best_estimator)\n",
    "scores.append(best_score)\n",
    "\n",
    "print(\"Best score:\\n{}\".format(best_score))"
   ]
  },
  {
   "cell_type": "markdown",
   "metadata": {},
   "source": [
    "***Logistic Regression***"
   ]
  },
  {
   "cell_type": "code",
   "execution_count": 32,
   "metadata": {},
   "outputs": [],
   "source": [
    "encoder = LabelEncoder()\n",
    "train_res = encoder.fit_transform(y_train)\n",
    "val_res = encoder.transform(y_val)"
   ]
  },
  {
   "cell_type": "code",
   "execution_count": 33,
   "metadata": {},
   "outputs": [],
   "source": [
    "def get_models():\n",
    "\tmodels = dict()\n",
    "\tfor p in [0.0, 0.0001, 0.001, 0.01, 0.1, 1.0]:\n",
    "\t\tkey = '%.4f' % p\n",
    "\t\tif p == 0.0:\n",
    "\t\t\tmodels[key] = LogisticRegression(multi_class='multinomial', solver='lbfgs', penalty='none')\n",
    "\t\telse:\n",
    "\t\t\tmodels[key] = LogisticRegression(multi_class='multinomial', solver='lbfgs', penalty='l2', C=p)\n",
    "\treturn models"
   ]
  },
  {
   "cell_type": "code",
   "execution_count": 34,
   "metadata": {},
   "outputs": [],
   "source": [
    "def evaluate_model(model, X, y):\n",
    "\tcv = RepeatedStratifiedKFold(n_splits=10 , n_repeats=3, random_state=1)\n",
    "\tscores = cross_val_score(model, X, y, scoring='accuracy', cv=cv, n_jobs=-1)\n",
    "\treturn scores"
   ]
  },
  {
   "cell_type": "code",
   "execution_count": 35,
   "metadata": {},
   "outputs": [
    {
     "name": "stderr",
     "output_type": "stream",
     "text": [
      "c:\\Users\\yassi\\anaconda3\\lib\\site-packages\\sklearn\\linear_model\\_logistic.py:763: ConvergenceWarning: lbfgs failed to converge (status=1):\n",
      "STOP: TOTAL NO. of ITERATIONS REACHED LIMIT.\n",
      "\n",
      "Increase the number of iterations (max_iter) or scale the data as shown in:\n",
      "    https://scikit-learn.org/stable/modules/preprocessing.html\n",
      "Please also refer to the documentation for alternative solver options:\n",
      "    https://scikit-learn.org/stable/modules/linear_model.html#logistic-regression\n",
      "  n_iter_i = _check_optimize_result(\n"
     ]
    },
    {
     "name": "stdout",
     "output_type": "stream",
     "text": [
      "score for 0.0000 = 0.5688809629959876\n",
      "score for 0.0001 = 0.3981275078020508\n",
      "score for 0.0010 = 0.3981275078020508\n",
      "score for 0.0100 = 0.3981275078020508\n",
      "score for 0.1000 = 0.4864021399910834\n",
      "score for 1.0000 = 0.6201515827017388\n"
     ]
    },
    {
     "name": "stderr",
     "output_type": "stream",
     "text": [
      "c:\\Users\\yassi\\anaconda3\\lib\\site-packages\\sklearn\\linear_model\\_logistic.py:763: ConvergenceWarning: lbfgs failed to converge (status=1):\n",
      "STOP: TOTAL NO. of ITERATIONS REACHED LIMIT.\n",
      "\n",
      "Increase the number of iterations (max_iter) or scale the data as shown in:\n",
      "    https://scikit-learn.org/stable/modules/preprocessing.html\n",
      "Please also refer to the documentation for alternative solver options:\n",
      "    https://scikit-learn.org/stable/modules/linear_model.html#logistic-regression\n",
      "  n_iter_i = _check_optimize_result(\n"
     ]
    }
   ],
   "source": [
    "models = get_models()\n",
    "results, names = list(), list()\n",
    "for name, model in models.items():\n",
    "\tlog = model.fit(tfidf_X_train, train_res)\n",
    "\tpredict = log.predict(tfidf_X_val)\n",
    "\tscore = f1_score(val_res, predict, average='micro')\n",
    "\tprint(\"score for \" + str(name) + \" = \" + str(score))\n",
    "\tresults.append(score)\n",
    "\tnames.append(name)"
   ]
  },
  {
   "cell_type": "code",
   "execution_count": 59,
   "metadata": {},
   "outputs": [
    {
     "name": "stdout",
     "output_type": "stream",
     "text": [
      "[1]\n",
      "جبران باسيل وامن الصهاينه يعترف حقهم طيب جيش لحد يعمل لحمايه امن اسراءيل فقلنا عنهم عملاء طيب يلي دايما\n"
     ]
    }
   ],
   "source": [
    "print(models['1.0000'].predict(tfidf_X_test[1200]))\n",
    "# print(x_test[100])\n",
    "print(x_test.iloc[1200])"
   ]
  },
  {
   "cell_type": "markdown",
   "metadata": {},
   "source": [
    "***Neural Network***"
   ]
  },
  {
   "cell_type": "code",
   "execution_count": 41,
   "metadata": {},
   "outputs": [],
   "source": [
    "train_class = np_utils.to_categorical(y_train, 10)\n",
    "val_class = np_utils.to_categorical(y_val, 10)\n",
    "test_class = np_utils.to_categorical(y_test, 10)"
   ]
  },
  {
   "cell_type": "code",
   "execution_count": 42,
   "metadata": {},
   "outputs": [],
   "source": [
    "train_class_nn = np_utils.to_categorical(y_train_nn, 10)\n",
    "test_class_nn = np_utils.to_categorical(y_test_nn, 10)"
   ]
  },
  {
   "cell_type": "code",
   "execution_count": 43,
   "metadata": {},
   "outputs": [],
   "source": [
    "def accuracy(test, prediction):\n",
    "    predicted = np.argmax(prediction, axis=1)\n",
    "    actual = np.argmax(test, axis=1)\n",
    "    return accuracy_score(actual, predicted)\n",
    "\n",
    "def f1_measure(test, prediction):\n",
    "    predicted = np.argmax(prediction, axis=1)\n",
    "    actual = np.argmax(test, axis=1)\n",
    "    return f1_score(actual, predicted, average='micro') "
   ]
  },
  {
   "cell_type": "code",
   "execution_count": 44,
   "metadata": {},
   "outputs": [],
   "source": [
    "def randomize_parameters():\n",
    "    learning_rates = [0.1, 0.01, 0.001, 0.0001]\n",
    "    learning_decay = [0.00001, 0.000001, 0.0000001] \n",
    "    dropout_rates = [0.10, 0.15, 0.20]\n",
    "    hunit_nb = [100, 200, 300]\n",
    "    layers_nb = [3, 4]\n",
    "    batch_sizes = [16, 32, 64, 128] \n",
    "    \n",
    "    lr = random.choice(learning_rates)\n",
    "    ld = random.choice(learning_decay)\n",
    "    dr = random.choice(dropout_rates)\n",
    "    hn = random.choice(hunit_nb)\n",
    "    ln = random.choice(layers_nb)\n",
    "    bs = random.choice(batch_sizes)\n",
    "    \n",
    "    return lr, ld, dr, hn, ln, bs"
   ]
  },
  {
   "cell_type": "code",
   "execution_count": 45,
   "metadata": {},
   "outputs": [],
   "source": [
    "def random_neural_network(params):\n",
    "    model = Sequential()\n",
    "    model.add(Embedding(25663, 32, input_length= 25663)) \n",
    "    model.add(Flatten())\n",
    "    model.add(Dense(128, activation='relu'))\n",
    "    model.add(Dropout(params[2]))\n",
    "    model.add(Dense(params[3]))\n",
    "    model.add(Dense(10 , activation='softmax'))\n",
    "\n",
    "    return model"
   ]
  },
  {
   "cell_type": "code",
   "execution_count": 63,
   "metadata": {},
   "outputs": [
    {
     "name": "stdout",
     "output_type": "stream",
     "text": [
      "Epoch 1/10\n"
     ]
    },
    {
     "name": "stderr",
     "output_type": "stream",
     "text": [
      "c:\\Users\\yassi\\anaconda3\\lib\\site-packages\\keras\\optimizer_v2\\rmsprop.py:130: UserWarning: The `lr` argument is deprecated, use `learning_rate` instead.\n",
      "  super(RMSprop, self).__init__(name, **kwargs)\n"
     ]
    },
    {
     "name": "stdout",
     "output_type": "stream",
     "text": [
      "337/337 [==============================] - 452s 1s/step - loss: 57.3726 - accuracy: 0.4018 - val_loss: 1.3371 - val_accuracy: 0.4004\n",
      "Epoch 2/10\n",
      "337/337 [==============================] - 447s 1s/step - loss: 1.3357 - accuracy: 0.4127 - val_loss: 1.3337 - val_accuracy: 0.4004\n",
      "Epoch 3/10\n",
      "337/337 [==============================] - 442s 1s/step - loss: 1.3343 - accuracy: 0.4109 - val_loss: 1.3331 - val_accuracy: 0.4004\n",
      "Epoch 4/10\n",
      "337/337 [==============================] - 442s 1s/step - loss: 1.3344 - accuracy: 0.4126 - val_loss: 1.3373 - val_accuracy: 0.4004\n",
      "Epoch 5/10\n",
      "337/337 [==============================] - 442s 1s/step - loss: 1.3328 - accuracy: 0.4113 - val_loss: 1.3406 - val_accuracy: 0.4004\n",
      "Epoch 6/10\n",
      "337/337 [==============================] - 451s 1s/step - loss: 1.3328 - accuracy: 0.4131 - val_loss: 1.3321 - val_accuracy: 0.4004\n",
      "Epoch 7/10\n",
      "337/337 [==============================] - 454s 1s/step - loss: 1.3310 - accuracy: 0.4116 - val_loss: 1.3318 - val_accuracy: 0.4004\n",
      "Epoch 8/10\n",
      "337/337 [==============================] - 454s 1s/step - loss: 1.3321 - accuracy: 0.4131 - val_loss: 1.3608 - val_accuracy: 0.4004\n",
      "Epoch 9/10\n",
      "337/337 [==============================] - 458s 1s/step - loss: 1.3325 - accuracy: 0.4131 - val_loss: 1.3702 - val_accuracy: 0.4004\n",
      "Epoch 10/10\n",
      "337/337 [==============================] - 467s 1s/step - loss: 1.3306 - accuracy: 0.4127 - val_loss: 1.3338 - val_accuracy: 0.4004\n"
     ]
    },
    {
     "data": {
      "image/png": "[encoded data removed]",
      "text/plain": [
       "<Figure size 576x396 with 1 Axes>"
      ]
     },
     "metadata": {},
     "output_type": "display_data"
    },
    {
     "name": "stdout",
     "output_type": "stream",
     "text": [
      "Epoch 1/10\n"
     ]
    },
    {
     "name": "stderr",
     "output_type": "stream",
     "text": [
      "c:\\Users\\yassi\\anaconda3\\lib\\site-packages\\keras\\optimizer_v2\\rmsprop.py:130: UserWarning: The `lr` argument is deprecated, use `learning_rate` instead.\n",
      "  super(RMSprop, self).__init__(name, **kwargs)\n"
     ]
    },
    {
     "name": "stdout",
     "output_type": "stream",
     "text": [
      "85/85 [==============================] - 144s 2s/step - loss: 659064.8125 - accuracy: 0.2806 - val_loss: 4.3190 - val_accuracy: 0.4004\n",
      "Epoch 2/10\n",
      "85/85 [==============================] - 151s 2s/step - loss: 3.1056 - accuracy: 0.2884 - val_loss: 4.6988 - val_accuracy: 0.1590\n",
      "Epoch 3/10\n",
      "85/85 [==============================] - 149s 2s/step - loss: 2.9069 - accuracy: 0.2830 - val_loss: 2.0151 - val_accuracy: 0.1590\n",
      "Epoch 4/10\n",
      "85/85 [==============================] - 148s 2s/step - loss: 1.8522 - accuracy: 0.3301 - val_loss: 1.3394 - val_accuracy: 0.4004\n",
      "Epoch 5/10\n",
      "85/85 [==============================] - 144s 2s/step - loss: 2.0887 - accuracy: 0.3509 - val_loss: 1.4488 - val_accuracy: 0.2147\n",
      "Epoch 6/10\n",
      "85/85 [==============================] - 142s 2s/step - loss: 1.7668 - accuracy: 0.3596 - val_loss: 2.7797 - val_accuracy: 0.4004\n",
      "Epoch 7/10\n",
      "85/85 [==============================] - 144s 2s/step - loss: 1.8878 - accuracy: 0.3592 - val_loss: 1.3863 - val_accuracy: 0.4004\n",
      "Epoch 8/10\n",
      "85/85 [==============================] - 145s 2s/step - loss: 1.7371 - accuracy: 0.3680 - val_loss: 1.4014 - val_accuracy: 0.4004\n",
      "Epoch 9/10\n",
      "85/85 [==============================] - 143s 2s/step - loss: 1.7237 - accuracy: 0.3806 - val_loss: 1.5931 - val_accuracy: 0.2147\n",
      "Epoch 10/10\n",
      "85/85 [==============================] - 143s 2s/step - loss: 1.8953 - accuracy: 0.3641 - val_loss: 1.4906 - val_accuracy: 0.2147\n"
     ]
    },
    {
     "data": {
      "image/png": "[encoded data removed]",
      "text/plain": [
       "<Figure size 576x396 with 1 Axes>"
      ]
     },
     "metadata": {},
     "output_type": "display_data"
    },
    {
     "name": "stdout",
     "output_type": "stream",
     "text": [
      "Epoch 1/10\n"
     ]
    },
    {
     "name": "stderr",
     "output_type": "stream",
     "text": [
      "c:\\Users\\yassi\\anaconda3\\lib\\site-packages\\keras\\optimizer_v2\\rmsprop.py:130: UserWarning: The `lr` argument is deprecated, use `learning_rate` instead.\n",
      "  super(RMSprop, self).__init__(name, **kwargs)\n"
     ]
    },
    {
     "name": "stdout",
     "output_type": "stream",
     "text": [
      "85/85 [==============================] - 141s 2s/step - loss: 2.1611 - accuracy: 0.3057 - val_loss: 1.9044 - val_accuracy: 0.2251\n",
      "Epoch 2/10\n",
      "85/85 [==============================] - 143s 2s/step - loss: 1.4508 - accuracy: 0.3550 - val_loss: 1.4496 - val_accuracy: 0.2251\n",
      "Epoch 3/10\n",
      "85/85 [==============================] - 126s 1s/step - loss: 1.3777 - accuracy: 0.3834 - val_loss: 1.3487 - val_accuracy: 0.4004\n",
      "Epoch 4/10\n",
      "85/85 [==============================] - 123s 1s/step - loss: 1.3635 - accuracy: 0.4022 - val_loss: 1.3662 - val_accuracy: 0.2251\n",
      "Epoch 5/10\n",
      "85/85 [==============================] - 121s 1s/step - loss: 1.3454 - accuracy: 0.4062 - val_loss: 1.3509 - val_accuracy: 0.4004\n",
      "Epoch 6/10\n",
      "85/85 [==============================] - 116s 1s/step - loss: 1.3439 - accuracy: 0.4129 - val_loss: 1.3395 - val_accuracy: 0.4004\n",
      "Epoch 7/10\n",
      "85/85 [==============================] - 116s 1s/step - loss: 1.3399 - accuracy: 0.4131 - val_loss: 1.3327 - val_accuracy: 0.4004\n",
      "Epoch 8/10\n",
      "85/85 [==============================] - 124s 1s/step - loss: 1.3376 - accuracy: 0.4131 - val_loss: 1.3344 - val_accuracy: 0.4004\n",
      "Epoch 9/10\n",
      "85/85 [==============================] - 123s 1s/step - loss: 1.3388 - accuracy: 0.4131 - val_loss: 1.3402 - val_accuracy: 0.4004\n",
      "Epoch 10/10\n",
      "85/85 [==============================] - 129s 2s/step - loss: 1.3363 - accuracy: 0.4131 - val_loss: 1.3366 - val_accuracy: 0.4004\n"
     ]
    },
    {
     "data": {
      "image/png": "[encoded data removed]",
      "text/plain": [
       "<Figure size 576x396 with 1 Axes>"
      ]
     },
     "metadata": {},
     "output_type": "display_data"
    },
    {
     "name": "stdout",
     "output_type": "stream",
     "text": [
      "Epoch 1/10\n"
     ]
    },
    {
     "name": "stderr",
     "output_type": "stream",
     "text": [
      "c:\\Users\\yassi\\anaconda3\\lib\\site-packages\\keras\\optimizer_v2\\rmsprop.py:130: UserWarning: The `lr` argument is deprecated, use `learning_rate` instead.\n",
      "  super(RMSprop, self).__init__(name, **kwargs)\n"
     ]
    },
    {
     "name": "stdout",
     "output_type": "stream",
     "text": [
      "337/337 [==============================] - 403s 1s/step - loss: 323511.4375 - accuracy: 0.2903 - val_loss: 1.7186 - val_accuracy: 0.2251\n",
      "Epoch 2/10\n",
      "337/337 [==============================] - 439s 1s/step - loss: 2.3185 - accuracy: 0.3321 - val_loss: 6.7460 - val_accuracy: 0.4004\n",
      "Epoch 3/10\n",
      "337/337 [==============================] - 442s 1s/step - loss: 2.1895 - accuracy: 0.3477 - val_loss: 1.8954 - val_accuracy: 0.2251\n",
      "Epoch 4/10\n",
      "337/337 [==============================] - 438s 1s/step - loss: 2.2119 - accuracy: 0.3377 - val_loss: 1.3977 - val_accuracy: 0.4004\n",
      "Epoch 5/10\n",
      "337/337 [==============================] - 441s 1s/step - loss: 2.1448 - accuracy: 0.3421 - val_loss: 1.7656 - val_accuracy: 0.4004\n",
      "Epoch 6/10\n",
      "337/337 [==============================] - 445s 1s/step - loss: 2.1351 - accuracy: 0.3312 - val_loss: 1.4029 - val_accuracy: 0.4004\n",
      "Epoch 7/10\n",
      "337/337 [==============================] - 442s 1s/step - loss: 2.1281 - accuracy: 0.3453 - val_loss: 1.8273 - val_accuracy: 0.1590\n",
      "Epoch 8/10\n",
      "337/337 [==============================] - 438s 1s/step - loss: 2.1590 - accuracy: 0.3366 - val_loss: 1.8238 - val_accuracy: 0.4004\n",
      "Epoch 9/10\n",
      "337/337 [==============================] - 440s 1s/step - loss: 2.1850 - accuracy: 0.3464 - val_loss: 1.8833 - val_accuracy: 0.4004\n",
      "Epoch 10/10\n",
      "337/337 [==============================] - 438s 1s/step - loss: 2.0863 - accuracy: 0.3518 - val_loss: 1.4971 - val_accuracy: 0.2251\n"
     ]
    },
    {
     "data": {
      "image/png": "[encoded data removed]",
      "text/plain": [
       "<Figure size 576x396 with 1 Axes>"
      ]
     },
     "metadata": {},
     "output_type": "display_data"
    },
    {
     "name": "stdout",
     "output_type": "stream",
     "text": [
      "Epoch 1/10\n"
     ]
    },
    {
     "name": "stderr",
     "output_type": "stream",
     "text": [
      "c:\\Users\\yassi\\anaconda3\\lib\\site-packages\\keras\\optimizer_v2\\rmsprop.py:130: UserWarning: The `lr` argument is deprecated, use `learning_rate` instead.\n",
      "  super(RMSprop, self).__init__(name, **kwargs)\n"
     ]
    },
    {
     "name": "stdout",
     "output_type": "stream",
     "text": [
      "337/337 [==============================] - 446s 1s/step - loss: 2.1615 - accuracy: 0.4062 - val_loss: 1.3415 - val_accuracy: 0.4004\n",
      "Epoch 2/10\n",
      "337/337 [==============================] - 443s 1s/step - loss: 1.3301 - accuracy: 0.4131 - val_loss: 1.3374 - val_accuracy: 0.4004\n",
      "Epoch 3/10\n",
      "337/337 [==============================] - 438s 1s/step - loss: 1.3298 - accuracy: 0.4131 - val_loss: 1.3435 - val_accuracy: 0.4004\n",
      "Epoch 4/10\n",
      "337/337 [==============================] - 438s 1s/step - loss: 1.3313 - accuracy: 0.4131 - val_loss: 1.3360 - val_accuracy: 0.4004\n",
      "Epoch 5/10\n",
      "337/337 [==============================] - 439s 1s/step - loss: 1.3294 - accuracy: 0.4131 - val_loss: 1.3348 - val_accuracy: 0.4004\n",
      "Epoch 6/10\n",
      "337/337 [==============================] - 436s 1s/step - loss: 1.3295 - accuracy: 0.4131 - val_loss: 1.3333 - val_accuracy: 0.4004\n",
      "Epoch 7/10\n",
      "337/337 [==============================] - 435s 1s/step - loss: 1.3293 - accuracy: 0.4131 - val_loss: 1.3322 - val_accuracy: 0.4004\n",
      "Epoch 8/10\n",
      "337/337 [==============================] - 436s 1s/step - loss: 1.3269 - accuracy: 0.4131 - val_loss: 1.3344 - val_accuracy: 0.4004\n",
      "Epoch 9/10\n",
      "337/337 [==============================] - 435s 1s/step - loss: 1.3284 - accuracy: 0.4131 - val_loss: 1.3326 - val_accuracy: 0.4004\n",
      "Epoch 10/10\n",
      "337/337 [==============================] - 437s 1s/step - loss: 1.3284 - accuracy: 0.4131 - val_loss: 1.3331 - val_accuracy: 0.4004\n"
     ]
    },
    {
     "data": {
      "image/png": "[encoded data removed]",
      "text/plain": [
       "<Figure size 576x396 with 1 Axes>"
      ]
     },
     "metadata": {},
     "output_type": "display_data"
    },
    {
     "name": "stdout",
     "output_type": "stream",
     "text": [
      "Epoch 1/10\n"
     ]
    },
    {
     "name": "stderr",
     "output_type": "stream",
     "text": [
      "c:\\Users\\yassi\\anaconda3\\lib\\site-packages\\keras\\optimizer_v2\\rmsprop.py:130: UserWarning: The `lr` argument is deprecated, use `learning_rate` instead.\n",
      "  super(RMSprop, self).__init__(name, **kwargs)\n"
     ]
    },
    {
     "name": "stdout",
     "output_type": "stream",
     "text": [
      "169/169 [==============================] - 237s 1s/step - loss: 407869.3750 - accuracy: 0.2866 - val_loss: 7.5363 - val_accuracy: 0.4004\n",
      "Epoch 2/10\n",
      "169/169 [==============================] - 236s 1s/step - loss: 2.5535 - accuracy: 0.3144 - val_loss: 5.5333 - val_accuracy: 0.1590\n",
      "Epoch 3/10\n",
      "169/169 [==============================] - 236s 1s/step - loss: 1.9530 - accuracy: 0.3377 - val_loss: 2.7773 - val_accuracy: 0.1590\n",
      "Epoch 4/10\n",
      "169/169 [==============================] - 235s 1s/step - loss: 1.6784 - accuracy: 0.3538 - val_loss: 10.7353 - val_accuracy: 0.2147\n",
      "Epoch 5/10\n",
      "169/169 [==============================] - 241s 1s/step - loss: 1.8436 - accuracy: 0.3667 - val_loss: 1.7066 - val_accuracy: 0.2147\n",
      "Epoch 6/10\n",
      "169/169 [==============================] - 235s 1s/step - loss: 1.7464 - accuracy: 0.3700 - val_loss: 1.6420 - val_accuracy: 0.1590\n",
      "Epoch 7/10\n",
      "169/169 [==============================] - 235s 1s/step - loss: 1.8772 - accuracy: 0.3605 - val_loss: 1.3675 - val_accuracy: 0.4004\n",
      "Epoch 8/10\n",
      "169/169 [==============================] - 235s 1s/step - loss: 1.8189 - accuracy: 0.3483 - val_loss: 1.3877 - val_accuracy: 0.2147\n",
      "Epoch 9/10\n",
      "169/169 [==============================] - 235s 1s/step - loss: 1.7570 - accuracy: 0.3538 - val_loss: 1.9698 - val_accuracy: 0.1590\n",
      "Epoch 10/10\n",
      "169/169 [==============================] - 235s 1s/step - loss: 1.8678 - accuracy: 0.3581 - val_loss: 1.4220 - val_accuracy: 0.4004\n"
     ]
    },
    {
     "data": {
      "image/png": "[encoded data removed]",
      "text/plain": [
       "<Figure size 576x396 with 1 Axes>"
      ]
     },
     "metadata": {},
     "output_type": "display_data"
    }
   ],
   "source": [
    "def HParamsTuning(n):\n",
    "    best_model = None\n",
    "    best_params = None\n",
    "    best_acc = 0\n",
    "    best_hist = 0\n",
    "    \n",
    "    for i in range(n):\n",
    "        random_params = randomize_parameters()\n",
    "        model = random_neural_network(random_params)\n",
    "        \n",
    "        opt = tf.keras.optimizers.RMSprop(lr =random_params[0], decay = random_params[1])\n",
    "        model.compile(optimizer = opt, loss='categorical_crossentropy', metrics = ['accuracy'])\n",
    "        \n",
    "        model_info = model.fit(padded_sequences, train_class, batch_size=random_params[5], epochs=10, validation_split = 0.2, validation_data = (padded_sequences_val, val_class))\n",
    "        predicted = model.predict(padded_sequences_val)\n",
    "        acc = accuracy(val_class, predicted)\n",
    "        figure = plt.figure()\n",
    "        plt.plot(model_info.history['loss'])\n",
    "        plt.plot(model_info.history['val_loss'])\n",
    "        plt.ylabel('Loss')\n",
    "        plt.xlabel('Epochs')\n",
    "        plt.show()\n",
    "        if(acc > best_acc):\n",
    "            best_acc = acc\n",
    "            best_model = model\n",
    "            best_params = random_params\n",
    "            best_hist = model_info\n",
    "            \n",
    "    return best_acc, best_model, best_params, best_hist\n",
    "\n",
    "best_model = HParamsTuning(6)"
   ]
  },
  {
   "cell_type": "code",
   "execution_count": 64,
   "metadata": {},
   "outputs": [
    {
     "name": "stdout",
     "output_type": "stream",
     "text": [
      "Best accuracy =  0.4217565760142666\n",
      "Best model =  <keras.engine.sequential.Sequential object at 0x000002151549A070>\n",
      "Best parameters =  (0.01, 1e-05, 0.2, 200, 4, 16)\n"
     ]
    }
   ],
   "source": [
    "print(\"Best accuracy = \" , best_model[0])\n",
    "print(\"Best model = \" , best_model[1] )\n",
    "print(\"Best parameters = \" , best_model[2] )\n"
   ]
  },
  {
   "cell_type": "code",
   "execution_count": 66,
   "metadata": {},
   "outputs": [
    {
     "name": "stdout",
     "output_type": "stream",
     "text": [
      "Epoch 1/10\n"
     ]
    },
    {
     "name": "stderr",
     "output_type": "stream",
     "text": [
      "c:\\Users\\yassi\\anaconda3\\lib\\site-packages\\keras\\optimizer_v2\\rmsprop.py:130: UserWarning: The `lr` argument is deprecated, use `learning_rate` instead.\n",
      "  super(RMSprop, self).__init__(name, **kwargs)\n"
     ]
    },
    {
     "name": "stdout",
     "output_type": "stream",
     "text": [
      "43/43 [==============================] - 76s 2s/step - loss: 13.3819 - accuracy: 0.3042 - val_loss: 1.4807 - val_accuracy: 0.2251\n",
      "Epoch 2/10\n",
      "43/43 [==============================] - 73s 2s/step - loss: 1.4413 - accuracy: 0.4031 - val_loss: 1.6158 - val_accuracy: 0.2251\n",
      "Epoch 3/10\n",
      "43/43 [==============================] - 77s 2s/step - loss: 2.1522 - accuracy: 0.3486 - val_loss: 1.7080 - val_accuracy: 0.4004\n",
      "Epoch 4/10\n",
      "43/43 [==============================] - 79s 2s/step - loss: 1.7862 - accuracy: 0.3750 - val_loss: 1.4058 - val_accuracy: 0.4272\n",
      "Epoch 5/10\n",
      "43/43 [==============================] - 78s 2s/step - loss: 1.4568 - accuracy: 0.4077 - val_loss: 1.6072 - val_accuracy: 0.3730\n",
      "Epoch 6/10\n",
      "43/43 [==============================] - 75s 2s/step - loss: 1.6097 - accuracy: 0.4282 - val_loss: 1.4245 - val_accuracy: 0.4004\n",
      "Epoch 7/10\n",
      "43/43 [==============================] - 75s 2s/step - loss: 1.2871 - accuracy: 0.5282 - val_loss: 1.2281 - val_accuracy: 0.5111\n",
      "Epoch 8/10\n",
      "43/43 [==============================] - 79s 2s/step - loss: 1.1724 - accuracy: 0.5553 - val_loss: 1.3119 - val_accuracy: 0.4993\n",
      "Epoch 9/10\n",
      "43/43 [==============================] - 78s 2s/step - loss: 1.1159 - accuracy: 0.5835 - val_loss: 1.1722 - val_accuracy: 0.4673\n",
      "Epoch 10/10\n",
      "43/43 [==============================] - 76s 2s/step - loss: 1.0952 - accuracy: 0.6122 - val_loss: 1.3822 - val_accuracy: 0.4554\n"
     ]
    },
    {
     "data": {
      "image/png": "[encoded data removed]",
      "text/plain": [
       "<Figure size 576x396 with 1 Axes>"
      ]
     },
     "metadata": {},
     "output_type": "display_data"
    }
   ],
   "source": [
    "model2 = Sequential()\n",
    "model2.add(Embedding(25663, 32, input_length= 25663)) \n",
    "model2.add(Flatten())\n",
    "model2.add(Dense(128, activation='relu'))\n",
    "model2.add(Dropout(0.1))\n",
    "model2.add(Dense(100))\n",
    "model2.add(Dense(10 , activation='softmax'))\n",
    "\n",
    "opt = tf.keras.optimizers.RMSprop(lr =0.001, decay = 0.00001)\n",
    "model2.compile(optimizer = opt, loss='categorical_crossentropy', metrics = ['accuracy'])\n",
    "\n",
    "model_info2 = model2.fit(padded_sequences, train_class, batch_size=128, epochs=10, validation_split = 0.2, validation_data = (padded_sequences_val, val_class))\n",
    "predicted2 = model2.predict(padded_sequences_val)\n",
    "acc2 = accuracy(val_class, predicted2)\n",
    "figure = plt.figure()\n",
    "plt.ylim(0, 4)\n",
    "plt.plot(model_info2.history['loss'], 'b-')\n",
    "plt.plot(model_info2.history['val_loss'], 'g-')\n",
    "plt.ylabel('Loss')\n",
    "plt.xlabel('Epochs')\n",
    "plt.show()\n"
   ]
  },
  {
   "cell_type": "code",
   "execution_count": 69,
   "metadata": {},
   "outputs": [
    {
     "data": {
      "image/png": "[encoded data removed]",
      "text/plain": [
       "<Figure size 576x396 with 1 Axes>"
      ]
     },
     "metadata": {},
     "output_type": "display_data"
    },
    {
     "name": "stdout",
     "output_type": "stream",
     "text": [
      "0.5020062416406599\n"
     ]
    }
   ],
   "source": [
    "figure = plt.figure()\n",
    "plt.plot(model_info2.history['accuracy'], 'b-')\n",
    "plt.plot(model_info2.history['val_accuracy'], 'g-')\n",
    "plt.ylabel('accuracy')\n",
    "plt.xlabel('Epochs')\n",
    "plt.show()\n",
    "print(acc2)"
   ]
  },
  {
   "cell_type": "code",
   "execution_count": 71,
   "metadata": {},
   "outputs": [
    {
     "name": "stdout",
     "output_type": "stream",
     "text": [
      "Epoch 1/50\n"
     ]
    },
    {
     "name": "stderr",
     "output_type": "stream",
     "text": [
      "c:\\Users\\yassi\\anaconda3\\lib\\site-packages\\keras\\optimizer_v2\\rmsprop.py:130: UserWarning: The `lr` argument is deprecated, use `learning_rate` instead.\n",
      "  super(RMSprop, self).__init__(name, **kwargs)\n"
     ]
    },
    {
     "name": "stdout",
     "output_type": "stream",
     "text": [
      "43/43 [==============================] - 76s 2s/step - loss: 10.1407 - accuracy: 0.3068 - val_loss: 1.3613 - val_accuracy: 0.4004\n",
      "Epoch 2/50\n",
      "43/43 [==============================] - 82s 2s/step - loss: 1.3692 - accuracy: 0.3968 - val_loss: 1.6322 - val_accuracy: 0.2251\n",
      "Epoch 3/50\n",
      "43/43 [==============================] - 79s 2s/step - loss: 2.0994 - accuracy: 0.3081 - val_loss: 1.7721 - val_accuracy: 0.4004\n",
      "Epoch 4/50\n",
      "43/43 [==============================] - 73s 2s/step - loss: 1.4567 - accuracy: 0.3743 - val_loss: 1.3359 - val_accuracy: 0.4004\n",
      "Epoch 5/50\n",
      "43/43 [==============================] - 79s 2s/step - loss: 1.4184 - accuracy: 0.4204 - val_loss: 1.3590 - val_accuracy: 0.4465\n",
      "Epoch 6/50\n",
      "43/43 [==============================] - 82s 2s/step - loss: 1.4422 - accuracy: 0.4583 - val_loss: 1.3037 - val_accuracy: 0.3752\n",
      "Epoch 7/50\n",
      "43/43 [==============================] - 75s 2s/step - loss: 1.2676 - accuracy: 0.5185 - val_loss: 1.1855 - val_accuracy: 0.5104\n",
      "Epoch 8/50\n",
      "43/43 [==============================] - 76s 2s/step - loss: 1.1071 - accuracy: 0.5592 - val_loss: 1.6816 - val_accuracy: 0.4042\n",
      "Epoch 9/50\n",
      "43/43 [==============================] - 79s 2s/step - loss: 1.0033 - accuracy: 0.6224 - val_loss: 1.2479 - val_accuracy: 0.4695\n",
      "Epoch 10/50\n",
      "43/43 [==============================] - 73s 2s/step - loss: 0.9543 - accuracy: 0.6436 - val_loss: 1.5282 - val_accuracy: 0.3425\n",
      "Epoch 11/50\n",
      "43/43 [==============================] - 76s 2s/step - loss: 0.8398 - accuracy: 0.6582 - val_loss: 1.4994 - val_accuracy: 0.4651\n",
      "Epoch 12/50\n",
      "43/43 [==============================] - 78s 2s/step - loss: 0.9355 - accuracy: 0.6869 - val_loss: 1.3780 - val_accuracy: 0.4435\n",
      "Epoch 13/50\n",
      "43/43 [==============================] - 73s 2s/step - loss: 0.9026 - accuracy: 0.7333 - val_loss: 1.7976 - val_accuracy: 0.4993\n",
      "Epoch 14/50\n",
      "43/43 [==============================] - 69s 2s/step - loss: 0.5083 - accuracy: 0.8026 - val_loss: 3.5728 - val_accuracy: 0.2199\n",
      "Epoch 15/50\n",
      "43/43 [==============================] - 70s 2s/step - loss: 0.7492 - accuracy: 0.7829 - val_loss: 1.3805 - val_accuracy: 0.4666\n",
      "Epoch 16/50\n",
      "43/43 [==============================] - 70s 2s/step - loss: 0.5854 - accuracy: 0.8032 - val_loss: 2.5949 - val_accuracy: 0.4673\n",
      "Epoch 17/50\n",
      "43/43 [==============================] - 70s 2s/step - loss: 0.6286 - accuracy: 0.8069 - val_loss: 1.6170 - val_accuracy: 0.5022\n",
      "Epoch 18/50\n",
      "43/43 [==============================] - 69s 2s/step - loss: 0.4893 - accuracy: 0.8439 - val_loss: 2.3818 - val_accuracy: 0.3938\n",
      "Epoch 19/50\n",
      "43/43 [==============================] - 69s 2s/step - loss: 0.6712 - accuracy: 0.8361 - val_loss: 1.7444 - val_accuracy: 0.5253\n",
      "Epoch 20/50\n",
      "43/43 [==============================] - 69s 2s/step - loss: 0.5203 - accuracy: 0.8610 - val_loss: 1.6219 - val_accuracy: 0.5104\n",
      "Epoch 21/50\n",
      "43/43 [==============================] - 70s 2s/step - loss: 0.6947 - accuracy: 0.8515 - val_loss: 1.7788 - val_accuracy: 0.4896\n",
      "Epoch 22/50\n",
      "43/43 [==============================] - 69s 2s/step - loss: 0.1905 - accuracy: 0.9442 - val_loss: 2.3330 - val_accuracy: 0.4733\n",
      "Epoch 23/50\n",
      "43/43 [==============================] - 71s 2s/step - loss: 0.4279 - accuracy: 0.9084 - val_loss: 2.2116 - val_accuracy: 0.4614\n",
      "Epoch 24/50\n",
      "43/43 [==============================] - 77s 2s/step - loss: 0.2817 - accuracy: 0.9095 - val_loss: 2.0755 - val_accuracy: 0.4859\n",
      "Epoch 25/50\n",
      "43/43 [==============================] - 78s 2s/step - loss: 0.5391 - accuracy: 0.8967 - val_loss: 2.1458 - val_accuracy: 0.5208\n",
      "Epoch 26/50\n",
      "43/43 [==============================] - 78s 2s/step - loss: 0.1090 - accuracy: 0.9677 - val_loss: 2.2151 - val_accuracy: 0.4785\n",
      "Epoch 27/50\n",
      "43/43 [==============================] - 78s 2s/step - loss: 0.4574 - accuracy: 0.9169 - val_loss: 3.2489 - val_accuracy: 0.4302\n",
      "Epoch 28/50\n",
      "43/43 [==============================] - 78s 2s/step - loss: 0.4686 - accuracy: 0.9240 - val_loss: 2.7898 - val_accuracy: 0.4733\n",
      "Epoch 29/50\n",
      "43/43 [==============================] - 79s 2s/step - loss: 0.1586 - accuracy: 0.9597 - val_loss: 3.4670 - val_accuracy: 0.3536\n",
      "Epoch 30/50\n",
      "43/43 [==============================] - 79s 2s/step - loss: 0.0969 - accuracy: 0.9664 - val_loss: 3.1568 - val_accuracy: 0.4666\n",
      "Epoch 31/50\n",
      "43/43 [==============================] - 79s 2s/step - loss: 0.4315 - accuracy: 0.9262 - val_loss: 2.9195 - val_accuracy: 0.4903\n",
      "Epoch 32/50\n",
      "43/43 [==============================] - 78s 2s/step - loss: 0.0874 - accuracy: 0.9714 - val_loss: 2.8560 - val_accuracy: 0.5067\n",
      "Epoch 33/50\n",
      "43/43 [==============================] - 79s 2s/step - loss: 0.1825 - accuracy: 0.9593 - val_loss: 2.6595 - val_accuracy: 0.5178\n",
      "Epoch 34/50\n",
      "43/43 [==============================] - 78s 2s/step - loss: 0.8844 - accuracy: 0.9398 - val_loss: 2.8394 - val_accuracy: 0.4629\n",
      "Epoch 35/50\n",
      "43/43 [==============================] - 79s 2s/step - loss: 0.0663 - accuracy: 0.9781 - val_loss: 3.3631 - val_accuracy: 0.5149\n",
      "Epoch 36/50\n",
      "43/43 [==============================] - 78s 2s/step - loss: 0.2310 - accuracy: 0.9548 - val_loss: 3.2278 - val_accuracy: 0.5022\n",
      "Epoch 37/50\n",
      "43/43 [==============================] - 79s 2s/step - loss: 0.0382 - accuracy: 0.9861 - val_loss: 3.3824 - val_accuracy: 0.4911\n",
      "Epoch 38/50\n",
      "43/43 [==============================] - 79s 2s/step - loss: 0.1225 - accuracy: 0.9649 - val_loss: 3.2744 - val_accuracy: 0.4740\n",
      "Epoch 39/50\n",
      "43/43 [==============================] - 78s 2s/step - loss: 0.2451 - accuracy: 0.9448 - val_loss: 3.6664 - val_accuracy: 0.4599\n",
      "Epoch 40/50\n",
      "43/43 [==============================] - 78s 2s/step - loss: 0.0389 - accuracy: 0.9875 - val_loss: 3.5505 - val_accuracy: 0.4792\n",
      "Epoch 41/50\n",
      "43/43 [==============================] - 79s 2s/step - loss: 0.2725 - accuracy: 0.9532 - val_loss: 3.2660 - val_accuracy: 0.5141\n",
      "Epoch 42/50\n",
      "43/43 [==============================] - 79s 2s/step - loss: 0.0267 - accuracy: 0.9915 - val_loss: 3.8303 - val_accuracy: 0.4903\n",
      "Epoch 43/50\n",
      "43/43 [==============================] - 79s 2s/step - loss: 0.2660 - accuracy: 0.9511 - val_loss: 3.7262 - val_accuracy: 0.5000\n",
      "Epoch 44/50\n",
      "43/43 [==============================] - 78s 2s/step - loss: 0.1775 - accuracy: 0.9822 - val_loss: 3.3708 - val_accuracy: 0.4859\n",
      "Epoch 45/50\n",
      "43/43 [==============================] - 79s 2s/step - loss: 0.0326 - accuracy: 0.9900 - val_loss: 3.7101 - val_accuracy: 0.5238\n",
      "Epoch 46/50\n",
      "43/43 [==============================] - 79s 2s/step - loss: 0.0565 - accuracy: 0.9820 - val_loss: 11.9898 - val_accuracy: 0.4183\n",
      "Epoch 47/50\n",
      "43/43 [==============================] - 79s 2s/step - loss: 0.1556 - accuracy: 0.9762 - val_loss: 3.6858 - val_accuracy: 0.4814\n",
      "Epoch 48/50\n",
      "43/43 [==============================] - 79s 2s/step - loss: 0.1396 - accuracy: 0.9740 - val_loss: 3.8210 - val_accuracy: 0.4941\n",
      "Epoch 49/50\n",
      "43/43 [==============================] - 78s 2s/step - loss: 0.0272 - accuracy: 0.9916 - val_loss: 4.1042 - val_accuracy: 0.5089\n",
      "Epoch 50/50\n",
      "43/43 [==============================] - 79s 2s/step - loss: 0.1011 - accuracy: 0.9699 - val_loss: 3.7606 - val_accuracy: 0.4666\n"
     ]
    },
    {
     "data": {
      "image/png": "[encoded data removed]",
      "text/plain": [
       "<Figure size 576x396 with 1 Axes>"
      ]
     },
     "metadata": {},
     "output_type": "display_data"
    },
    {
     "data": {
      "image/png": "[encoded data removed]",
      "text/plain": [
       "<Figure size 576x396 with 1 Axes>"
      ]
     },
     "metadata": {},
     "output_type": "display_data"
    },
    {
     "name": "stdout",
     "output_type": "stream",
     "text": [
      "0.5020062416406599\n"
     ]
    }
   ],
   "source": [
    "model3 = Sequential()\n",
    "model3.add(Embedding(25663, 32, input_length= 25663)) \n",
    "model3.add(Flatten())\n",
    "model3.add(Dense(128, activation='relu'))\n",
    "model3.add(Dropout(0.1))\n",
    "model3.add(Dense(100))\n",
    "model3.add(Dense(10 , activation='softmax'))\n",
    "\n",
    "opt = tf.keras.optimizers.RMSprop(lr =0.001, decay = 0.00001)\n",
    "model3.compile(optimizer = opt, loss='categorical_crossentropy', metrics = ['accuracy'])\n",
    "\n",
    "model_info3 = model3.fit(padded_sequences, train_class, batch_size=128, epochs=50, validation_split = 0.2, validation_data = (padded_sequences_val, val_class))\n",
    "predicted3 = model3.predict(padded_sequences_val)\n",
    "acc3 = accuracy(val_class, predicted3)\n",
    "figure = plt.figure()\n",
    "plt.ylim(0, 4)\n",
    "plt.plot(model_info3.history['loss'], 'b-')\n",
    "plt.plot(model_info3.history['val_loss'], 'g-')\n",
    "plt.ylabel('Loss')\n",
    "plt.xlabel('Epochs')\n",
    "plt.show()\n",
    "\n",
    "figure2 = plt.figure()\n",
    "plt.plot(model_info3.history['accuracy'], 'b-')\n",
    "plt.plot(model_info3.history['val_accuracy'], 'g-')\n",
    "plt.ylabel('accuracy')\n",
    "plt.xlabel('Epochs')\n",
    "plt.show()\n",
    "print(acc3)\n"
   ]
  },
  {
   "cell_type": "code",
   "execution_count": 77,
   "metadata": {},
   "outputs": [
    {
     "name": "stdout",
     "output_type": "stream",
     "text": [
      "0.5309852875613018\n"
     ]
    }
   ],
   "source": [
    "acc3 = accuracy(val_class, predicted3)\n",
    "print(acc3)"
   ]
  },
  {
   "cell_type": "code",
   "execution_count": 82,
   "metadata": {},
   "outputs": [
    {
     "name": "stdout",
     "output_type": "stream",
     "text": [
      "0.5062444246208743\n"
     ]
    }
   ],
   "source": [
    "predicted4 = model3.predict(padded_sequences_test)\n",
    "acc4 = accuracy(test_class, predicted4)\n",
    "print(acc4)"
   ]
  },
  {
   "cell_type": "code",
   "execution_count": 47,
   "metadata": {},
   "outputs": [
    {
     "name": "stdout",
     "output_type": "stream",
     "text": [
      "Epoch 1/100\n",
      "62/62 [==============================] - 270s 4s/step - loss: 22.0247 - accuracy: 0.3262\n",
      "Epoch 2/100\n",
      "62/62 [==============================] - 268s 4s/step - loss: 1.9140 - accuracy: 0.4102\n",
      "Epoch 3/100\n",
      "62/62 [==============================] - 273s 4s/step - loss: 1.5170 - accuracy: 0.4102\n",
      "Epoch 4/100\n",
      "62/62 [==============================] - 262s 4s/step - loss: 1.3640 - accuracy: 0.4102\n",
      "Epoch 5/100\n",
      "62/62 [==============================] - 263s 4s/step - loss: 1.3372 - accuracy: 0.4102\n",
      "Epoch 6/100\n",
      "62/62 [==============================] - 272s 4s/step - loss: 1.3322 - accuracy: 0.4102\n",
      "Epoch 7/100\n",
      "32/62 [==============>...............] - ETA: 2:10 - loss: 1.3312 - accuracy: 0.4092"
     ]
    },
    {
     "ename": "KeyboardInterrupt",
     "evalue": "",
     "output_type": "error",
     "traceback": [
      "\u001b[1;31m---------------------------------------------------------------------------\u001b[0m",
      "\u001b[1;31mKeyboardInterrupt\u001b[0m                         Traceback (most recent call last)",
      "\u001b[1;32m~\\AppData\\Local\\Temp/ipykernel_3068/2263725084.py\u001b[0m in \u001b[0;36m<module>\u001b[1;34m\u001b[0m\n\u001b[0;32m     10\u001b[0m \u001b[0mmodel4\u001b[0m\u001b[1;33m.\u001b[0m\u001b[0mcompile\u001b[0m\u001b[1;33m(\u001b[0m\u001b[0moptimizer\u001b[0m \u001b[1;33m=\u001b[0m \u001b[0mopt\u001b[0m\u001b[1;33m,\u001b[0m \u001b[0mloss\u001b[0m\u001b[1;33m=\u001b[0m\u001b[1;34m'categorical_crossentropy'\u001b[0m\u001b[1;33m,\u001b[0m \u001b[0mmetrics\u001b[0m \u001b[1;33m=\u001b[0m \u001b[1;33m[\u001b[0m\u001b[1;34m'accuracy'\u001b[0m\u001b[1;33m]\u001b[0m\u001b[1;33m)\u001b[0m\u001b[1;33m\u001b[0m\u001b[1;33m\u001b[0m\u001b[0m\n\u001b[0;32m     11\u001b[0m \u001b[1;33m\u001b[0m\u001b[0m\n\u001b[1;32m---> 12\u001b[1;33m \u001b[0mmodel_info4\u001b[0m \u001b[1;33m=\u001b[0m \u001b[0mmodel4\u001b[0m\u001b[1;33m.\u001b[0m\u001b[0mfit\u001b[0m\u001b[1;33m(\u001b[0m\u001b[0mpadded_sequences_train_nn\u001b[0m\u001b[1;33m,\u001b[0m \u001b[0mtrain_class_nn\u001b[0m\u001b[1;33m,\u001b[0m \u001b[0mbatch_size\u001b[0m\u001b[1;33m=\u001b[0m\u001b[1;36m128\u001b[0m\u001b[1;33m,\u001b[0m \u001b[0mepochs\u001b[0m\u001b[1;33m=\u001b[0m\u001b[1;36m100\u001b[0m\u001b[1;33m)\u001b[0m\u001b[1;33m\u001b[0m\u001b[1;33m\u001b[0m\u001b[0m\n\u001b[0m\u001b[0;32m     13\u001b[0m \u001b[0mpredicted5\u001b[0m \u001b[1;33m=\u001b[0m \u001b[0mmodel4\u001b[0m\u001b[1;33m.\u001b[0m\u001b[0mpredict\u001b[0m\u001b[1;33m(\u001b[0m\u001b[0mpadded_sequences_test_nn\u001b[0m\u001b[1;33m)\u001b[0m\u001b[1;33m\u001b[0m\u001b[1;33m\u001b[0m\u001b[0m\n\u001b[0;32m     14\u001b[0m \u001b[0macc5\u001b[0m \u001b[1;33m=\u001b[0m \u001b[0maccuracy\u001b[0m\u001b[1;33m(\u001b[0m\u001b[0mtest_class_nn\u001b[0m\u001b[1;33m,\u001b[0m \u001b[0mpredicted5\u001b[0m\u001b[1;33m)\u001b[0m\u001b[1;33m\u001b[0m\u001b[1;33m\u001b[0m\u001b[0m\n",
      "\u001b[1;32mc:\\Users\\yassi\\anaconda3\\lib\\site-packages\\keras\\utils\\traceback_utils.py\u001b[0m in \u001b[0;36merror_handler\u001b[1;34m(*args, **kwargs)\u001b[0m\n\u001b[0;32m     62\u001b[0m     \u001b[0mfiltered_tb\u001b[0m \u001b[1;33m=\u001b[0m \u001b[1;32mNone\u001b[0m\u001b[1;33m\u001b[0m\u001b[1;33m\u001b[0m\u001b[0m\n\u001b[0;32m     63\u001b[0m     \u001b[1;32mtry\u001b[0m\u001b[1;33m:\u001b[0m\u001b[1;33m\u001b[0m\u001b[1;33m\u001b[0m\u001b[0m\n\u001b[1;32m---> 64\u001b[1;33m       \u001b[1;32mreturn\u001b[0m \u001b[0mfn\u001b[0m\u001b[1;33m(\u001b[0m\u001b[1;33m*\u001b[0m\u001b[0margs\u001b[0m\u001b[1;33m,\u001b[0m \u001b[1;33m**\u001b[0m\u001b[0mkwargs\u001b[0m\u001b[1;33m)\u001b[0m\u001b[1;33m\u001b[0m\u001b[1;33m\u001b[0m\u001b[0m\n\u001b[0m\u001b[0;32m     65\u001b[0m     \u001b[1;32mexcept\u001b[0m \u001b[0mException\u001b[0m \u001b[1;32mas\u001b[0m \u001b[0me\u001b[0m\u001b[1;33m:\u001b[0m  \u001b[1;31m# pylint: disable=broad-except\u001b[0m\u001b[1;33m\u001b[0m\u001b[1;33m\u001b[0m\u001b[0m\n\u001b[0;32m     66\u001b[0m       \u001b[0mfiltered_tb\u001b[0m \u001b[1;33m=\u001b[0m \u001b[0m_process_traceback_frames\u001b[0m\u001b[1;33m(\u001b[0m\u001b[0me\u001b[0m\u001b[1;33m.\u001b[0m\u001b[0m__traceback__\u001b[0m\u001b[1;33m)\u001b[0m\u001b[1;33m\u001b[0m\u001b[1;33m\u001b[0m\u001b[0m\n",
      "\u001b[1;32mc:\\Users\\yassi\\anaconda3\\lib\\site-packages\\keras\\engine\\training.py\u001b[0m in \u001b[0;36mfit\u001b[1;34m(self, x, y, batch_size, epochs, verbose, callbacks, validation_split, validation_data, shuffle, class_weight, sample_weight, initial_epoch, steps_per_epoch, validation_steps, validation_batch_size, validation_freq, max_queue_size, workers, use_multiprocessing)\u001b[0m\n\u001b[0;32m   1382\u001b[0m                 _r=1):\n\u001b[0;32m   1383\u001b[0m               \u001b[0mcallbacks\u001b[0m\u001b[1;33m.\u001b[0m\u001b[0mon_train_batch_begin\u001b[0m\u001b[1;33m(\u001b[0m\u001b[0mstep\u001b[0m\u001b[1;33m)\u001b[0m\u001b[1;33m\u001b[0m\u001b[1;33m\u001b[0m\u001b[0m\n\u001b[1;32m-> 1384\u001b[1;33m               \u001b[0mtmp_logs\u001b[0m \u001b[1;33m=\u001b[0m \u001b[0mself\u001b[0m\u001b[1;33m.\u001b[0m\u001b[0mtrain_function\u001b[0m\u001b[1;33m(\u001b[0m\u001b[0miterator\u001b[0m\u001b[1;33m)\u001b[0m\u001b[1;33m\u001b[0m\u001b[1;33m\u001b[0m\u001b[0m\n\u001b[0m\u001b[0;32m   1385\u001b[0m               \u001b[1;32mif\u001b[0m \u001b[0mdata_handler\u001b[0m\u001b[1;33m.\u001b[0m\u001b[0mshould_sync\u001b[0m\u001b[1;33m:\u001b[0m\u001b[1;33m\u001b[0m\u001b[1;33m\u001b[0m\u001b[0m\n\u001b[0;32m   1386\u001b[0m                 \u001b[0mcontext\u001b[0m\u001b[1;33m.\u001b[0m\u001b[0masync_wait\u001b[0m\u001b[1;33m(\u001b[0m\u001b[1;33m)\u001b[0m\u001b[1;33m\u001b[0m\u001b[1;33m\u001b[0m\u001b[0m\n",
      "\u001b[1;32mc:\\Users\\yassi\\anaconda3\\lib\\site-packages\\tensorflow\\python\\util\\traceback_utils.py\u001b[0m in \u001b[0;36merror_handler\u001b[1;34m(*args, **kwargs)\u001b[0m\n\u001b[0;32m    148\u001b[0m     \u001b[0mfiltered_tb\u001b[0m \u001b[1;33m=\u001b[0m \u001b[1;32mNone\u001b[0m\u001b[1;33m\u001b[0m\u001b[1;33m\u001b[0m\u001b[0m\n\u001b[0;32m    149\u001b[0m     \u001b[1;32mtry\u001b[0m\u001b[1;33m:\u001b[0m\u001b[1;33m\u001b[0m\u001b[1;33m\u001b[0m\u001b[0m\n\u001b[1;32m--> 150\u001b[1;33m       \u001b[1;32mreturn\u001b[0m \u001b[0mfn\u001b[0m\u001b[1;33m(\u001b[0m\u001b[1;33m*\u001b[0m\u001b[0margs\u001b[0m\u001b[1;33m,\u001b[0m \u001b[1;33m**\u001b[0m\u001b[0mkwargs\u001b[0m\u001b[1;33m)\u001b[0m\u001b[1;33m\u001b[0m\u001b[1;33m\u001b[0m\u001b[0m\n\u001b[0m\u001b[0;32m    151\u001b[0m     \u001b[1;32mexcept\u001b[0m \u001b[0mException\u001b[0m \u001b[1;32mas\u001b[0m \u001b[0me\u001b[0m\u001b[1;33m:\u001b[0m\u001b[1;33m\u001b[0m\u001b[1;33m\u001b[0m\u001b[0m\n\u001b[0;32m    152\u001b[0m       \u001b[0mfiltered_tb\u001b[0m \u001b[1;33m=\u001b[0m \u001b[0m_process_traceback_frames\u001b[0m\u001b[1;33m(\u001b[0m\u001b[0me\u001b[0m\u001b[1;33m.\u001b[0m\u001b[0m__traceback__\u001b[0m\u001b[1;33m)\u001b[0m\u001b[1;33m\u001b[0m\u001b[1;33m\u001b[0m\u001b[0m\n",
      "\u001b[1;32mc:\\Users\\yassi\\anaconda3\\lib\\site-packages\\tensorflow\\python\\eager\\def_function.py\u001b[0m in \u001b[0;36m__call__\u001b[1;34m(self, *args, **kwds)\u001b[0m\n\u001b[0;32m    913\u001b[0m \u001b[1;33m\u001b[0m\u001b[0m\n\u001b[0;32m    914\u001b[0m       \u001b[1;32mwith\u001b[0m \u001b[0mOptionalXlaContext\u001b[0m\u001b[1;33m(\u001b[0m\u001b[0mself\u001b[0m\u001b[1;33m.\u001b[0m\u001b[0m_jit_compile\u001b[0m\u001b[1;33m)\u001b[0m\u001b[1;33m:\u001b[0m\u001b[1;33m\u001b[0m\u001b[1;33m\u001b[0m\u001b[0m\n\u001b[1;32m--> 915\u001b[1;33m         \u001b[0mresult\u001b[0m \u001b[1;33m=\u001b[0m \u001b[0mself\u001b[0m\u001b[1;33m.\u001b[0m\u001b[0m_call\u001b[0m\u001b[1;33m(\u001b[0m\u001b[1;33m*\u001b[0m\u001b[0margs\u001b[0m\u001b[1;33m,\u001b[0m \u001b[1;33m**\u001b[0m\u001b[0mkwds\u001b[0m\u001b[1;33m)\u001b[0m\u001b[1;33m\u001b[0m\u001b[1;33m\u001b[0m\u001b[0m\n\u001b[0m\u001b[0;32m    916\u001b[0m \u001b[1;33m\u001b[0m\u001b[0m\n\u001b[0;32m    917\u001b[0m       \u001b[0mnew_tracing_count\u001b[0m \u001b[1;33m=\u001b[0m \u001b[0mself\u001b[0m\u001b[1;33m.\u001b[0m\u001b[0mexperimental_get_tracing_count\u001b[0m\u001b[1;33m(\u001b[0m\u001b[1;33m)\u001b[0m\u001b[1;33m\u001b[0m\u001b[1;33m\u001b[0m\u001b[0m\n",
      "\u001b[1;32mc:\\Users\\yassi\\anaconda3\\lib\\site-packages\\tensorflow\\python\\eager\\def_function.py\u001b[0m in \u001b[0;36m_call\u001b[1;34m(self, *args, **kwds)\u001b[0m\n\u001b[0;32m    945\u001b[0m       \u001b[1;31m# In this case we have created variables on the first call, so we run the\u001b[0m\u001b[1;33m\u001b[0m\u001b[1;33m\u001b[0m\u001b[0m\n\u001b[0;32m    946\u001b[0m       \u001b[1;31m# defunned version which is guaranteed to never create variables.\u001b[0m\u001b[1;33m\u001b[0m\u001b[1;33m\u001b[0m\u001b[0m\n\u001b[1;32m--> 947\u001b[1;33m       \u001b[1;32mreturn\u001b[0m \u001b[0mself\u001b[0m\u001b[1;33m.\u001b[0m\u001b[0m_stateless_fn\u001b[0m\u001b[1;33m(\u001b[0m\u001b[1;33m*\u001b[0m\u001b[0margs\u001b[0m\u001b[1;33m,\u001b[0m \u001b[1;33m**\u001b[0m\u001b[0mkwds\u001b[0m\u001b[1;33m)\u001b[0m  \u001b[1;31m# pylint: disable=not-callable\u001b[0m\u001b[1;33m\u001b[0m\u001b[1;33m\u001b[0m\u001b[0m\n\u001b[0m\u001b[0;32m    948\u001b[0m     \u001b[1;32melif\u001b[0m \u001b[0mself\u001b[0m\u001b[1;33m.\u001b[0m\u001b[0m_stateful_fn\u001b[0m \u001b[1;32mis\u001b[0m \u001b[1;32mnot\u001b[0m \u001b[1;32mNone\u001b[0m\u001b[1;33m:\u001b[0m\u001b[1;33m\u001b[0m\u001b[1;33m\u001b[0m\u001b[0m\n\u001b[0;32m    949\u001b[0m       \u001b[1;31m# Release the lock early so that multiple threads can perform the call\u001b[0m\u001b[1;33m\u001b[0m\u001b[1;33m\u001b[0m\u001b[0m\n",
      "\u001b[1;32mc:\\Users\\yassi\\anaconda3\\lib\\site-packages\\tensorflow\\python\\eager\\function.py\u001b[0m in \u001b[0;36m__call__\u001b[1;34m(self, *args, **kwargs)\u001b[0m\n\u001b[0;32m   2954\u001b[0m       (graph_function,\n\u001b[0;32m   2955\u001b[0m        filtered_flat_args) = self._maybe_define_function(args, kwargs)\n\u001b[1;32m-> 2956\u001b[1;33m     return graph_function._call_flat(\n\u001b[0m\u001b[0;32m   2957\u001b[0m         filtered_flat_args, captured_inputs=graph_function.captured_inputs)  # pylint: disable=protected-access\n\u001b[0;32m   2958\u001b[0m \u001b[1;33m\u001b[0m\u001b[0m\n",
      "\u001b[1;32mc:\\Users\\yassi\\anaconda3\\lib\\site-packages\\tensorflow\\python\\eager\\function.py\u001b[0m in \u001b[0;36m_call_flat\u001b[1;34m(self, args, captured_inputs, cancellation_manager)\u001b[0m\n\u001b[0;32m   1851\u001b[0m         and executing_eagerly):\n\u001b[0;32m   1852\u001b[0m       \u001b[1;31m# No tape is watching; skip to running the function.\u001b[0m\u001b[1;33m\u001b[0m\u001b[1;33m\u001b[0m\u001b[0m\n\u001b[1;32m-> 1853\u001b[1;33m       return self._build_call_outputs(self._inference_function.call(\n\u001b[0m\u001b[0;32m   1854\u001b[0m           ctx, args, cancellation_manager=cancellation_manager))\n\u001b[0;32m   1855\u001b[0m     forward_backward = self._select_forward_and_backward_functions(\n",
      "\u001b[1;32mc:\\Users\\yassi\\anaconda3\\lib\\site-packages\\tensorflow\\python\\eager\\function.py\u001b[0m in \u001b[0;36mcall\u001b[1;34m(self, ctx, args, cancellation_manager)\u001b[0m\n\u001b[0;32m    497\u001b[0m       \u001b[1;32mwith\u001b[0m \u001b[0m_InterpolateFunctionError\u001b[0m\u001b[1;33m(\u001b[0m\u001b[0mself\u001b[0m\u001b[1;33m)\u001b[0m\u001b[1;33m:\u001b[0m\u001b[1;33m\u001b[0m\u001b[1;33m\u001b[0m\u001b[0m\n\u001b[0;32m    498\u001b[0m         \u001b[1;32mif\u001b[0m \u001b[0mcancellation_manager\u001b[0m \u001b[1;32mis\u001b[0m \u001b[1;32mNone\u001b[0m\u001b[1;33m:\u001b[0m\u001b[1;33m\u001b[0m\u001b[1;33m\u001b[0m\u001b[0m\n\u001b[1;32m--> 499\u001b[1;33m           outputs = execute.execute(\n\u001b[0m\u001b[0;32m    500\u001b[0m               \u001b[0mstr\u001b[0m\u001b[1;33m(\u001b[0m\u001b[0mself\u001b[0m\u001b[1;33m.\u001b[0m\u001b[0msignature\u001b[0m\u001b[1;33m.\u001b[0m\u001b[0mname\u001b[0m\u001b[1;33m)\u001b[0m\u001b[1;33m,\u001b[0m\u001b[1;33m\u001b[0m\u001b[1;33m\u001b[0m\u001b[0m\n\u001b[0;32m    501\u001b[0m               \u001b[0mnum_outputs\u001b[0m\u001b[1;33m=\u001b[0m\u001b[0mself\u001b[0m\u001b[1;33m.\u001b[0m\u001b[0m_num_outputs\u001b[0m\u001b[1;33m,\u001b[0m\u001b[1;33m\u001b[0m\u001b[1;33m\u001b[0m\u001b[0m\n",
      "\u001b[1;32mc:\\Users\\yassi\\anaconda3\\lib\\site-packages\\tensorflow\\python\\eager\\execute.py\u001b[0m in \u001b[0;36mquick_execute\u001b[1;34m(op_name, num_outputs, inputs, attrs, ctx, name)\u001b[0m\n\u001b[0;32m     52\u001b[0m   \u001b[1;32mtry\u001b[0m\u001b[1;33m:\u001b[0m\u001b[1;33m\u001b[0m\u001b[1;33m\u001b[0m\u001b[0m\n\u001b[0;32m     53\u001b[0m     \u001b[0mctx\u001b[0m\u001b[1;33m.\u001b[0m\u001b[0mensure_initialized\u001b[0m\u001b[1;33m(\u001b[0m\u001b[1;33m)\u001b[0m\u001b[1;33m\u001b[0m\u001b[1;33m\u001b[0m\u001b[0m\n\u001b[1;32m---> 54\u001b[1;33m     tensors = pywrap_tfe.TFE_Py_Execute(ctx._handle, device_name, op_name,\n\u001b[0m\u001b[0;32m     55\u001b[0m                                         inputs, attrs, num_outputs)\n\u001b[0;32m     56\u001b[0m   \u001b[1;32mexcept\u001b[0m \u001b[0mcore\u001b[0m\u001b[1;33m.\u001b[0m\u001b[0m_NotOkStatusException\u001b[0m \u001b[1;32mas\u001b[0m \u001b[0me\u001b[0m\u001b[1;33m:\u001b[0m\u001b[1;33m\u001b[0m\u001b[1;33m\u001b[0m\u001b[0m\n",
      "\u001b[1;31mKeyboardInterrupt\u001b[0m: "
     ]
    }
   ],
   "source": [
    "model4 = Sequential()\n",
    "model4.add(Embedding(28300, 64, input_length= 28300)) \n",
    "model4.add(Flatten())\n",
    "model4.add(Dense(128, activation='relu'))\n",
    "model4.add(Dropout(0.1))\n",
    "model4.add(Dense(100))\n",
    "model4.add(Dense(10 , activation='softmax'))\n",
    "\n",
    "opt = tf.keras.optimizers.RMSprop(lr =0.001, decay = 0.00001)\n",
    "model4.compile(optimizer = opt, loss='categorical_crossentropy', metrics = ['accuracy'])\n",
    "\n",
    "model_info4 = model4.fit(padded_sequences_train_nn, train_class_nn, batch_size=128, epochs=100)\n",
    "predicted5 = model4.predict(padded_sequences_test_nn)\n",
    "acc5 = accuracy(test_class_nn, predicted5)\n",
    "print(acc5)\n",
    "figure = plt.figure()\n",
    "plt.ylim(0, 4)\n",
    "plt.plot(model_info4.history['loss'], 'b-')\n",
    "plt.plot(model_info4.history['val_loss'], 'g-')\n",
    "plt.ylabel('Loss')\n",
    "plt.xlabel('Epochs')\n",
    "plt.show()\n",
    "\n",
    "figure2 = plt.figure()\n",
    "plt.plot(model_info4.history['accuracy'], 'b-')\n",
    "plt.plot(model_info4.history['val_accuracy'], 'g-')\n",
    "plt.ylabel('accuracy')\n",
    "plt.xlabel('Epochs')\n",
    "plt.show()"
   ]
  }
 ],
 "metadata": {
  "colab": {
   "collapsed_sections": [],
   "name": "Project287.ipynb",
   "provenance": []
  },
  "interpreter": {
   "hash": "86683d5093cdfc248c2052b98028b5f92fe0b16c5df7a151fa3a945cb67b6e02"
  },
  "kernelspec": {
   "display_name": "Python 3.9.7 ('base')",
   "language": "python",
   "name": "python3"
  },
  "language_info": {
   "codemirror_mode": {
    "name": "ipython",
    "version": 3
   },
   "file_extension": ".py",
   "mimetype": "text/x-python",
   "name": "python",
   "nbconvert_exporter": "python",
   "pygments_lexer": "ipython3",
   "version": "3.9.7"
  }
 },
 "nbformat": 4,
 "nbformat_minor": 1
}
